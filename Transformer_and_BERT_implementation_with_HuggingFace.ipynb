{
  "nbformat": 4,
  "nbformat_minor": 0,
  "metadata": {
    "colab": {
      "provenance": []
    },
    "kernelspec": {
      "name": "python3",
      "display_name": "Python 3"
    },
    "language_info": {
      "name": "python"
    }
  },
  "cells": [
    {
      "cell_type": "markdown",
      "source": [
        "We are going to use the Transformer library created by HuggingFace.\n",
        "through this library, we can download and use the pretrained BERT model which is a transformer based model.\n",
        "Transformers library allows you to use a wide range of transformer based model for different purposes such as text classification, sentiment analysis and in different languages as well."
      ],
      "metadata": {
        "id": "_KIjTxtroZYB"
      }
    },
    {
      "cell_type": "code",
      "source": [
        "# installing the libraries\n",
        "!pip install transformers"
      ],
      "metadata": {
        "colab": {
          "base_uri": "https://localhost:8080/"
        },
        "id": "NdmVMWNmoqcG",
        "outputId": "1bfbaefc-a439-47a4-bc8c-e35fa212bc54"
      },
      "execution_count": 1,
      "outputs": [
        {
          "output_type": "stream",
          "name": "stdout",
          "text": [
            "Looking in indexes: https://pypi.org/simple, https://us-python.pkg.dev/colab-wheels/public/simple/\n",
            "Requirement already satisfied: transformers in /usr/local/lib/python3.8/dist-packages (4.6.0)\n",
            "Requirement already satisfied: packaging in /usr/local/lib/python3.8/dist-packages (from transformers) (23.0)\n",
            "Requirement already satisfied: requests in /usr/local/lib/python3.8/dist-packages (from transformers) (2.25.1)\n",
            "Requirement already satisfied: numpy>=1.17 in /usr/local/lib/python3.8/dist-packages (from transformers) (1.22.4)\n",
            "Requirement already satisfied: huggingface-hub==0.0.8 in /usr/local/lib/python3.8/dist-packages (from transformers) (0.0.8)\n",
            "Requirement already satisfied: sacremoses in /usr/local/lib/python3.8/dist-packages (from transformers) (0.0.53)\n",
            "Requirement already satisfied: regex!=2019.12.17 in /usr/local/lib/python3.8/dist-packages (from transformers) (2022.6.2)\n",
            "Requirement already satisfied: tokenizers<0.11,>=0.10.1 in /usr/local/lib/python3.8/dist-packages (from transformers) (0.10.3)\n",
            "Requirement already satisfied: tqdm>=4.27 in /usr/local/lib/python3.8/dist-packages (from transformers) (4.64.1)\n",
            "Requirement already satisfied: filelock in /usr/local/lib/python3.8/dist-packages (from transformers) (3.9.0)\n",
            "Requirement already satisfied: certifi>=2017.4.17 in /usr/local/lib/python3.8/dist-packages (from requests->transformers) (2022.12.7)\n",
            "Requirement already satisfied: chardet<5,>=3.0.2 in /usr/local/lib/python3.8/dist-packages (from requests->transformers) (4.0.0)\n",
            "Requirement already satisfied: urllib3<1.27,>=1.21.1 in /usr/local/lib/python3.8/dist-packages (from requests->transformers) (1.26.14)\n",
            "Requirement already satisfied: idna<3,>=2.5 in /usr/local/lib/python3.8/dist-packages (from requests->transformers) (2.10)\n",
            "Requirement already satisfied: six in /usr/local/lib/python3.8/dist-packages (from sacremoses->transformers) (1.15.0)\n",
            "Requirement already satisfied: click in /usr/local/lib/python3.8/dist-packages (from sacremoses->transformers) (8.1.3)\n",
            "Requirement already satisfied: joblib in /usr/local/lib/python3.8/dist-packages (from sacremoses->transformers) (1.2.0)\n"
          ]
        }
      ]
    },
    {
      "cell_type": "markdown",
      "source": [
        "This transformers library has a lot of pretrained transformer models such as BERT, GPT etc. There are two ways to use the pretrained model.\n",
        "# a) using Pipeline API"
      ],
      "metadata": {
        "id": "EtDjQtkOumLZ"
      }
    },
    {
      "cell_type": "code",
      "source": [
        "from transformers import pipeline\n",
        "classifier=pipeline('sentiment-analysis', model='nlptown/bert-base-multilingual-uncased-sentiment')"
      ],
      "metadata": {
        "id": "cTQb4bsjuOul"
      },
      "execution_count": 2,
      "outputs": []
    },
    {
      "cell_type": "code",
      "source": [
        "movie_review=\"A delightful experience that will make you forget about the recent tragedy of Infifnity war. Ant man and the wasp is the 20th MCU Movie which is directed by Peyton Reed who has directed the first Ant Man Movie and this Movie is about scott, who is  hoyse arrested due to the Events that took place due to the Sokovia Accords(Civil War) and Hank and Hope trying to Get Back Janet( Hanks wife and Hopes Mother) who they think is still alive in the Quantum Realm and thier only hope to get her Back is Scott. Well this movie isnt Great or Brilliant but its is a Good Movie.\""
      ],
      "metadata": {
        "id": "RBvY4B2dq5Ej"
      },
      "execution_count": 3,
      "outputs": []
    },
    {
      "cell_type": "code",
      "source": [
        "# to convert movie reviews into movie stars\n",
        "classifier(movie_review)"
      ],
      "metadata": {
        "colab": {
          "base_uri": "https://localhost:8080/"
        },
        "id": "LpOFlOFxvwsI",
        "outputId": "03749798-8f55-454d-c5ab-9ae44bdfad9b"
      },
      "execution_count": 4,
      "outputs": [
        {
          "output_type": "execute_result",
          "data": {
            "text/plain": [
              "[{'label': '4 stars', 'score': 0.6429524421691895}]"
            ]
          },
          "metadata": {},
          "execution_count": 4
        }
      ]
    },
    {
      "cell_type": "markdown",
      "source": [
        "Creating another pipeline for sentiment analysis, using Distillbert pretrained model."
      ],
      "metadata": {
        "id": "LsTuLBRTrcn-"
      }
    },
    {
      "cell_type": "code",
      "source": [
        "classifier1=pipeline('sentiment-analysis', model='distilbert-base-uncased-finetuned-sst-2-english')"
      ],
      "metadata": {
        "id": "D0M-m9V3rZTf"
      },
      "execution_count": 5,
      "outputs": []
    },
    {
      "cell_type": "code",
      "source": [
        "classifier1('I like the movie')"
      ],
      "metadata": {
        "colab": {
          "base_uri": "https://localhost:8080/"
        },
        "id": "HxbZV2dnwj2F",
        "outputId": "651df26f-f3c4-42c9-a80e-089ffe3bd8c3"
      },
      "execution_count": 6,
      "outputs": [
        {
          "output_type": "execute_result",
          "data": {
            "text/plain": [
              "[{'label': 'POSITIVE', 'score': 0.9998114109039307}]"
            ]
          },
          "metadata": {},
          "execution_count": 6
        }
      ]
    },
    {
      "cell_type": "markdown",
      "source": [
        "# Using Tokenizer and the pretrained model seperately.\n",
        "This methods allows you to load the model and tokenizer into memory and fine tune the model on your dataset."
      ],
      "metadata": {
        "id": "7pmk4aKuycuz"
      }
    },
    {
      "cell_type": "code",
      "source": [
        "from transformers import AutoTokenizer, TFAutoModelForSequenceClassification"
      ],
      "metadata": {
        "id": "lTH8lHZyupXD"
      },
      "execution_count": 7,
      "outputs": []
    },
    {
      "cell_type": "markdown",
      "source": [
        "Downloading the model and tokenizer for NLP tasks from the model hub."
      ],
      "metadata": {
        "id": "HHHPu6Ify5E6"
      }
    },
    {
      "cell_type": "code",
      "source": [
        "model_name='nlptown/bert-base-multilingual-uncased-sentiment'\n",
        "#this model exists in PyTorch only so we use the from_pt flag to import that model in TensorFlow\n",
        "model=TFAutoModelForSequenceClassification.from_pretrained(model_name,from_pt=True)\n",
        "tokenizer=AutoTokenizer.from_pretrained(model_name)\n",
        "classifier=pipeline('sentiment-analysis',model=model,tokenizer=tokenizer)"
      ],
      "metadata": {
        "colab": {
          "base_uri": "https://localhost:8080/"
        },
        "id": "cGOfp5QSywpp",
        "outputId": "0d52e3dd-fa5b-4ce0-e41f-3bd42cb15786"
      },
      "execution_count": 8,
      "outputs": [
        {
          "output_type": "stream",
          "name": "stderr",
          "text": [
            "All PyTorch model weights were used when initializing TFBertForSequenceClassification.\n",
            "\n",
            "All the weights of TFBertForSequenceClassification were initialized from the PyTorch model.\n",
            "If your task is similar to the task the model of the checkpoint was trained on, you can already use TFBertForSequenceClassification for predictions without further training.\n"
          ]
        }
      ]
    },
    {
      "cell_type": "code",
      "source": [
        "classifier('This movie is not doing well')"
      ],
      "metadata": {
        "colab": {
          "base_uri": "https://localhost:8080/"
        },
        "id": "A-MYKfWV21CW",
        "outputId": "64b6e191-3ced-496d-91cd-084493ce768f"
      },
      "execution_count": 9,
      "outputs": [
        {
          "output_type": "execute_result",
          "data": {
            "text/plain": [
              "[{'label': '1 star', 'score': 0.6130624413490295}]"
            ]
          },
          "metadata": {},
          "execution_count": 9
        }
      ]
    },
    {
      "cell_type": "code",
      "source": [
        "# using the tokenizer seperately\n",
        "tokenizer('this movie is not doing good')"
      ],
      "metadata": {
        "colab": {
          "base_uri": "https://localhost:8080/"
        },
        "id": "p3LVxkZA2fOm",
        "outputId": "5e105c78-33a9-485b-c199-8022fdb6edcd"
      },
      "execution_count": 10,
      "outputs": [
        {
          "output_type": "execute_result",
          "data": {
            "text/plain": [
              "{'input_ids': [101, 10372, 13113, 10127, 10497, 27799, 12050, 102], 'token_type_ids': [0, 0, 0, 0, 0, 0, 0, 0], 'attention_mask': [1, 1, 1, 1, 1, 1, 1, 1]}"
            ]
          },
          "metadata": {},
          "execution_count": 10
        }
      ]
    },
    {
      "cell_type": "markdown",
      "source": [
        "#### Fine Tuning Pretrained model on custom dataset using transformers:\n",
        "here we are goingt to take a custom dataset and fine tune the pretrained model to see how well it predicts the output.\n",
        "the pretrained model we are going to use is DistilBert.\n",
        "The dataset is spam vs ham classification."
      ],
      "metadata": {
        "id": "jIFNhyJR4_Ek"
      }
    },
    {
      "cell_type": "code",
      "source": [
        "from google.colab import drive\n",
        "import pandas as pd\n",
        "drive.mount('/content/drive')"
      ],
      "metadata": {
        "colab": {
          "base_uri": "https://localhost:8080/"
        },
        "id": "ebmJsgA03QtY",
        "outputId": "867ab059-7e71-48a1-e482-dd1fc671165b"
      },
      "execution_count": 11,
      "outputs": [
        {
          "output_type": "stream",
          "name": "stdout",
          "text": [
            "Drive already mounted at /content/drive; to attempt to forcibly remount, call drive.mount(\"/content/drive\", force_remount=True).\n"
          ]
        }
      ]
    },
    {
      "cell_type": "code",
      "source": [
        "df=pd.read_csv('drive/MyDrive/spam.csv',encoding=\"ISO-8859-1\")\n",
        "df.drop(['Unnamed: 2','Unnamed: 3','Unnamed: 4'], axis=1, inplace=True)\n",
        "df.rename(columns={'v1':'label','v2':'message'},inplace=True)"
      ],
      "metadata": {
        "id": "ElYVDKnD6VAy"
      },
      "execution_count": 12,
      "outputs": []
    },
    {
      "cell_type": "code",
      "source": [
        "df.head()"
      ],
      "metadata": {
        "colab": {
          "base_uri": "https://localhost:8080/",
          "height": 206
        },
        "id": "QInmVLOy6d_1",
        "outputId": "cabdac41-92fb-4cb4-d232-7ba3a7be9b54"
      },
      "execution_count": 13,
      "outputs": [
        {
          "output_type": "execute_result",
          "data": {
            "text/plain": [
              "  label                                            message\n",
              "0   ham  Go until jurong point, crazy.. Available only ...\n",
              "1   ham                      Ok lar... Joking wif u oni...\n",
              "2  spam  Free entry in 2 a wkly comp to win FA Cup fina...\n",
              "3   ham  U dun say so early hor... U c already then say...\n",
              "4   ham  Nah I don't think he goes to usf, he lives aro..."
            ],
            "text/html": [
              "\n",
              "  <div id=\"df-42fd73c2-7c82-4975-93f3-2da9dfaef1f3\">\n",
              "    <div class=\"colab-df-container\">\n",
              "      <div>\n",
              "<style scoped>\n",
              "    .dataframe tbody tr th:only-of-type {\n",
              "        vertical-align: middle;\n",
              "    }\n",
              "\n",
              "    .dataframe tbody tr th {\n",
              "        vertical-align: top;\n",
              "    }\n",
              "\n",
              "    .dataframe thead th {\n",
              "        text-align: right;\n",
              "    }\n",
              "</style>\n",
              "<table border=\"1\" class=\"dataframe\">\n",
              "  <thead>\n",
              "    <tr style=\"text-align: right;\">\n",
              "      <th></th>\n",
              "      <th>label</th>\n",
              "      <th>message</th>\n",
              "    </tr>\n",
              "  </thead>\n",
              "  <tbody>\n",
              "    <tr>\n",
              "      <th>0</th>\n",
              "      <td>ham</td>\n",
              "      <td>Go until jurong point, crazy.. Available only ...</td>\n",
              "    </tr>\n",
              "    <tr>\n",
              "      <th>1</th>\n",
              "      <td>ham</td>\n",
              "      <td>Ok lar... Joking wif u oni...</td>\n",
              "    </tr>\n",
              "    <tr>\n",
              "      <th>2</th>\n",
              "      <td>spam</td>\n",
              "      <td>Free entry in 2 a wkly comp to win FA Cup fina...</td>\n",
              "    </tr>\n",
              "    <tr>\n",
              "      <th>3</th>\n",
              "      <td>ham</td>\n",
              "      <td>U dun say so early hor... U c already then say...</td>\n",
              "    </tr>\n",
              "    <tr>\n",
              "      <th>4</th>\n",
              "      <td>ham</td>\n",
              "      <td>Nah I don't think he goes to usf, he lives aro...</td>\n",
              "    </tr>\n",
              "  </tbody>\n",
              "</table>\n",
              "</div>\n",
              "      <button class=\"colab-df-convert\" onclick=\"convertToInteractive('df-42fd73c2-7c82-4975-93f3-2da9dfaef1f3')\"\n",
              "              title=\"Convert this dataframe to an interactive table.\"\n",
              "              style=\"display:none;\">\n",
              "        \n",
              "  <svg xmlns=\"http://www.w3.org/2000/svg\" height=\"24px\"viewBox=\"0 0 24 24\"\n",
              "       width=\"24px\">\n",
              "    <path d=\"M0 0h24v24H0V0z\" fill=\"none\"/>\n",
              "    <path d=\"M18.56 5.44l.94 2.06.94-2.06 2.06-.94-2.06-.94-.94-2.06-.94 2.06-2.06.94zm-11 1L8.5 8.5l.94-2.06 2.06-.94-2.06-.94L8.5 2.5l-.94 2.06-2.06.94zm10 10l.94 2.06.94-2.06 2.06-.94-2.06-.94-.94-2.06-.94 2.06-2.06.94z\"/><path d=\"M17.41 7.96l-1.37-1.37c-.4-.4-.92-.59-1.43-.59-.52 0-1.04.2-1.43.59L10.3 9.45l-7.72 7.72c-.78.78-.78 2.05 0 2.83L4 21.41c.39.39.9.59 1.41.59.51 0 1.02-.2 1.41-.59l7.78-7.78 2.81-2.81c.8-.78.8-2.07 0-2.86zM5.41 20L4 18.59l7.72-7.72 1.47 1.35L5.41 20z\"/>\n",
              "  </svg>\n",
              "      </button>\n",
              "      \n",
              "  <style>\n",
              "    .colab-df-container {\n",
              "      display:flex;\n",
              "      flex-wrap:wrap;\n",
              "      gap: 12px;\n",
              "    }\n",
              "\n",
              "    .colab-df-convert {\n",
              "      background-color: #E8F0FE;\n",
              "      border: none;\n",
              "      border-radius: 50%;\n",
              "      cursor: pointer;\n",
              "      display: none;\n",
              "      fill: #1967D2;\n",
              "      height: 32px;\n",
              "      padding: 0 0 0 0;\n",
              "      width: 32px;\n",
              "    }\n",
              "\n",
              "    .colab-df-convert:hover {\n",
              "      background-color: #E2EBFA;\n",
              "      box-shadow: 0px 1px 2px rgba(60, 64, 67, 0.3), 0px 1px 3px 1px rgba(60, 64, 67, 0.15);\n",
              "      fill: #174EA6;\n",
              "    }\n",
              "\n",
              "    [theme=dark] .colab-df-convert {\n",
              "      background-color: #3B4455;\n",
              "      fill: #D2E3FC;\n",
              "    }\n",
              "\n",
              "    [theme=dark] .colab-df-convert:hover {\n",
              "      background-color: #434B5C;\n",
              "      box-shadow: 0px 1px 3px 1px rgba(0, 0, 0, 0.15);\n",
              "      filter: drop-shadow(0px 1px 2px rgba(0, 0, 0, 0.3));\n",
              "      fill: #FFFFFF;\n",
              "    }\n",
              "  </style>\n",
              "\n",
              "      <script>\n",
              "        const buttonEl =\n",
              "          document.querySelector('#df-42fd73c2-7c82-4975-93f3-2da9dfaef1f3 button.colab-df-convert');\n",
              "        buttonEl.style.display =\n",
              "          google.colab.kernel.accessAllowed ? 'block' : 'none';\n",
              "\n",
              "        async function convertToInteractive(key) {\n",
              "          const element = document.querySelector('#df-42fd73c2-7c82-4975-93f3-2da9dfaef1f3');\n",
              "          const dataTable =\n",
              "            await google.colab.kernel.invokeFunction('convertToInteractive',\n",
              "                                                     [key], {});\n",
              "          if (!dataTable) return;\n",
              "\n",
              "          const docLinkHtml = 'Like what you see? Visit the ' +\n",
              "            '<a target=\"_blank\" href=https://colab.research.google.com/notebooks/data_table.ipynb>data table notebook</a>'\n",
              "            + ' to learn more about interactive tables.';\n",
              "          element.innerHTML = '';\n",
              "          dataTable['output_type'] = 'display_data';\n",
              "          await google.colab.output.renderOutput(dataTable, element);\n",
              "          const docLink = document.createElement('div');\n",
              "          docLink.innerHTML = docLinkHtml;\n",
              "          element.appendChild(docLink);\n",
              "        }\n",
              "      </script>\n",
              "    </div>\n",
              "  </div>\n",
              "  "
            ]
          },
          "metadata": {},
          "execution_count": 13
        }
      ]
    },
    {
      "cell_type": "code",
      "source": [
        "df.shape"
      ],
      "metadata": {
        "colab": {
          "base_uri": "https://localhost:8080/"
        },
        "id": "Zw2lerVg6eon",
        "outputId": "dcd9beb8-956e-48b1-9736-3fc729428437"
      },
      "execution_count": 14,
      "outputs": [
        {
          "output_type": "execute_result",
          "data": {
            "text/plain": [
              "(5572, 2)"
            ]
          },
          "metadata": {},
          "execution_count": 14
        }
      ]
    },
    {
      "cell_type": "code",
      "source": [
        "# creating independent and dependent features:\n",
        "y=df.iloc[:,:-1]\n",
        "X=df.iloc[:,-1:]"
      ],
      "metadata": {
        "id": "6KkadNTS-MSF"
      },
      "execution_count": 15,
      "outputs": []
    },
    {
      "cell_type": "code",
      "source": [
        "# one hot encoding for the dependent variable\n",
        "y=pd.get_dummies(y,drop_first=True)"
      ],
      "metadata": {
        "id": "PKV-VLwN_QWP"
      },
      "execution_count": 16,
      "outputs": []
    },
    {
      "cell_type": "code",
      "source": [],
      "metadata": {
        "id": "7DaxG0IIAE6N"
      },
      "execution_count": 16,
      "outputs": []
    },
    {
      "cell_type": "code",
      "source": [
        "X=X['message'].tolist()\n",
        "y=y['label_spam'].tolist()"
      ],
      "metadata": {
        "id": "1Shi2o1-_Hy2"
      },
      "execution_count": 17,
      "outputs": []
    },
    {
      "cell_type": "code",
      "source": [
        "print(type(X),type(y))"
      ],
      "metadata": {
        "colab": {
          "base_uri": "https://localhost:8080/"
        },
        "id": "MV_m4-Mp-YwK",
        "outputId": "0f19bd44-42ce-4989-93c2-b25c1081fed5"
      },
      "execution_count": 18,
      "outputs": [
        {
          "output_type": "stream",
          "name": "stdout",
          "text": [
            "<class 'list'> <class 'list'>\n"
          ]
        }
      ]
    },
    {
      "cell_type": "code",
      "source": [
        "# train and test split\n",
        "from sklearn.model_selection import train_test_split\n",
        "X_train,X_test,y_train,y_test=train_test_split(X,y,test_size=0.2,random_state=0)"
      ],
      "metadata": {
        "id": "fiS0GGYl_vwz"
      },
      "execution_count": 19,
      "outputs": []
    },
    {
      "cell_type": "code",
      "source": [
        "X_train"
      ],
      "metadata": {
        "colab": {
          "base_uri": "https://localhost:8080/"
        },
        "id": "yeJ_6BihA8Jn",
        "outputId": "6502891f-dd1b-4184-f01a-04a41d700ede"
      },
      "execution_count": 20,
      "outputs": [
        {
          "output_type": "execute_result",
          "data": {
            "text/plain": [
              "['No no:)this is kallis home ground.amla home town is durban:)',\n",
              " 'I am in escape theatre now. . Going to watch KAVALAN in a few minutes',\n",
              " 'We walked from my moms. Right on stagwood pass right on winterstone left on victors hill. Address is &lt;#&gt;',\n",
              " 'I dunno they close oredi not... ÌÏ v ma fan...',\n",
              " 'Yo im right by yo work',\n",
              " '\\\\Its Ur luck to Love someone. Its Ur fortune to Love the one who Loves U. But',\n",
              " 'He also knows about lunch menu only da. . I know',\n",
              " 'Oh yeah! And my diet just flew out the window',\n",
              " \"Nah it's straight, if you can just bring bud or drinks or something that's actually a little more useful than straight cash\",\n",
              " 'SplashMobile: Choose from 1000s of gr8 tones each wk! This is a subscrition service with weekly tones costing 300p. U have one credit - kick back and ENJOY',\n",
              " 'Fighting with the world is easy, u either win or lose bt fightng with some1 who is close to u is dificult if u lose - u lose if u win - u still lose.',\n",
              " \"Of cos can lar i'm not so ba dao ok... 1 pm lor... Y u never ask where we go ah... I said u would ask on fri but he said u will ask today...\",\n",
              " \"Hey you around? I've got enough for a half + the ten I owe you\",\n",
              " \"So i asked how's anthony. Dad. And your bf\",\n",
              " \"Ok i've sent u da latest version of da project.\",\n",
              " 'You will be in the place of that man',\n",
              " 'Gd luck 4 ur exams :-)',\n",
              " 'Burger King - Wanna play footy at a top stadium? Get 2 Burger King before 1st Sept and go Large or Super with Coca-Cola and walk out a winner',\n",
              " 'All e best 4 ur exam later.',\n",
              " \"5p 4 alfie Moon's Children in need song on ur mob. Tell ur m8s. Txt Tone charity to 8007 for Nokias or Poly charity for polys: zed 08701417012 profit 2 charity.\",\n",
              " 'Reverse is cheating. That is not mathematics.',\n",
              " '\\x89Û_ and don\\x89Û÷t worry we\\x89Û÷ll have finished by march \\x89Û_ ish!',\n",
              " 'Yo come over carlos will be here soon',\n",
              " \"You should know now. So how's anthony. Are you bringing money. I've school fees to pay and rent and stuff like that. Thats why i need your help. A friend in need....|\",\n",
              " 'Tell me whos this pls:-)',\n",
              " 'they released another Italian one today and it has a cosign option',\n",
              " 'Only once then after ill obey all yours.',\n",
              " 'okmail: Dear Dave this is your final notice to collect your 4* Tenerife Holiday or #5000 CASH award! Call 09061743806 from landline. TCs SAE Box326 CW25WX 150ppm',\n",
              " \"fyi I'm at usf now, swing by the room whenever\",\n",
              " 'Raji..pls do me a favour. Pls convey my Birthday wishes to Nimya. Pls. Today is her birthday.',\n",
              " 'Ok.ok ok..then..whats ur todays plan',\n",
              " 'Oh k :)why you got job then whats up?',\n",
              " 'Send a logo 2 ur lover - 2 names joined by a heart. Txt LOVE NAME1 NAME2 MOBNO eg LOVE ADAM EVE 07123456789 to 87077 Yahoo! POBox36504W45WQ TxtNO 4 no ads 150p.',\n",
              " 'Had your mobile 11 months or more? U R entitled to Update to the latest colour mobiles with camera for Free! Call The Mobile Update Co FREE on 08002986030',\n",
              " \"* Thought I didn't see you.\",\n",
              " 'And miss vday the parachute and double coins??? U must not know me very well...',\n",
              " \"Yo you around? A friend of mine's lookin to pick up later tonight\",\n",
              " 'We currently have a message awaiting your collection. To collect your message just call 08718723815.',\n",
              " 'Thanks for your subscription to Ringtone UK your mobile will be charged å£5/month Please confirm by replying YES or NO. If you reply NO you will not be charged',\n",
              " 'Guess who spent all last night phasing in and out of the fourth dimension',\n",
              " 'JADE ITS PAUL. Y DIDNåÕT U TXT ME? DO U REMEMBER ME FROM BARMED? I WANT 2 TALK 2 U! TXT ME',\n",
              " 'Just nw i came to hme da..',\n",
              " 'K, I might come by tonight then if my class lets out early',\n",
              " 'It\\x89Û÷s reassuring, in this crazy world.',\n",
              " \"Hey r Ì_ still online? I've finished the formatting...\",\n",
              " 'Yo carlos, a few friends are already asking me about you, you working at all this weekend?',\n",
              " 'Oh unintentionally not bad timing. Great. Fingers  the trains play along! Will give fifteen min warning.',\n",
              " \"Joy's father is John. Then John is the ____ of Joy's father. If u ans ths you hav  &lt;#&gt;  IQ. Tis s IAS question try to answer.\",\n",
              " 'Yo, call me when you get the chance, a friend of mine wanted me to ask you about a big order',\n",
              " 'How about getting in touch with folks waiting for company? Just txt back your NAME and AGE to opt in! Enjoy the community (150p/SMS)',\n",
              " 'Ill call u 2mrw at ninish, with my address that icky American freek wont stop callin me 2 bad Jen k eh?',\n",
              " 'happened here while you were adventuring',\n",
              " 'Umma my life and vava umma love you lot dear',\n",
              " 'Have you got Xmas radio times. If not i will get it now',\n",
              " 'That depends. How would you like to be treated? :)',\n",
              " 'This is my number by vivek..',\n",
              " 'Did he say how fantastic I am by any chance, or anything need a bigger life lift as losing the will 2 live, do you think I would be the first person 2 die from N V Q? ',\n",
              " \"I'm going out to buy mum's present ar.\",\n",
              " 'S but not able to sleep.',\n",
              " 'But my family not responding for anything. Now am in room not went to home for diwali but no one called me and why not coming. It makes me feel like died.',\n",
              " 'Why she wants to talk to me',\n",
              " 'You have won ?1,000 cash or a ?2,000 prize! To claim, call09050000327. T&C: RSTM, SW7 3SS. 150ppm',\n",
              " 'Our dating service has been asked 2 contact U by someone shy! CALL 09058091870 NOW all will be revealed. POBox84, M26 3UZ 150p',\n",
              " 'Yeah, probably here for a while',\n",
              " 'I want to see your pretty pussy...',\n",
              " \"So how are you really. What are you up to. How's the masters. And so on.\",\n",
              " 'Moji just informed me that you saved our lives. Thanks.',\n",
              " 'Aiyah u did ok already lar. E nydc at wheellock?',\n",
              " \"Bored of speed dating? Try SPEEDCHAT, txt SPEEDCHAT to 80155, if you don't like em txt SWAP and get a new chatter! Chat80155 POBox36504W45WQ 150p/msg rcd 16\",\n",
              " 'Thanks for your ringtone order, reference number X29. Your mobile will be charged 4.50. Should your tone not arrive please call customer services 09065989180',\n",
              " 'Yup...',\n",
              " 'Ummmmmaah Many many happy returns of d day my dear sweet heart.. HAPPY BIRTHDAY dear',\n",
              " \"Thanks for understanding. I've been trying to tell sura that.\",\n",
              " 'Raji..pls do me a favour. Pls convey my Birthday wishes to Nimya. Pls. Today is her birthday.',\n",
              " 'Hey i will be late ah... Meet you at 945+',\n",
              " 'SMS AUCTION - A BRAND NEW Nokia 7250 is up 4 auction today! Auction is FREE 2 join & take part! Txt NOKIA to 86021 now! HG/Suite342/2Lands Row/W1J6HL',\n",
              " 'Been running but only managed 5 minutes and then needed oxygen! Might have to resort to the roller option!',\n",
              " 'Yar... I tot u knew dis would happen long ago already.',\n",
              " 'Yeah, in fact he just asked if we needed anything like an hour ago. When and how much?',\n",
              " \"I can probably come by, everybody's done around  &lt;#&gt;  right?\",\n",
              " 'Todays Voda numbers ending with 7634 are selected to receive a å£350 reward. If you have a match please call 08712300220 quoting claim code 7684 standard rates apply.',\n",
              " 'Our ride equally uneventful - not too many of those pesky cyclists around at that time of night ;).',\n",
              " \"Can you please send me my aunty's number\",\n",
              " \"I'll see, but prolly yeah\",\n",
              " 'Good morning princess! How are you?',\n",
              " \"Haven't heard anything and he's not answering my texts so I'm guessing he flaked. That said the jb is fantastic\",\n",
              " 'K:)all the best:)congrats...',\n",
              " 'Ill be at yours in about 3 mins but look out for me',\n",
              " 'I had askd u a question some hours before. Its answer',\n",
              " 'House-Maid is the murderer, coz the man was murdered on  &lt;#&gt; th January.. As public holiday all govt.instituitions are closed,including post office..',\n",
              " \"Yes but can we meet in town cos will go to gep and then home. You could text at bus stop. And don't worry we'll have finished by march \\x89Û_ ish!\",\n",
              " \"Ugh y can't u just apologize, admit u were wrong and ask me to take u back?\",\n",
              " 'K..k.:)congratulation ..',\n",
              " 'G says you never answer your texts, confirm/deny',\n",
              " \"I don't know u and u don't know me. Send CHAT to 86688 now and let's find each other! Only 150p/Msg rcvd. HG/Suite342/2Lands/Row/W1J6HL LDN. 18 years or over.\",\n",
              " 'Until 545 lor... Ya, can go 4 dinner together...',\n",
              " 'Hmm...Bad news...Hype park plaza $700 studio taken...Only left 2 bedrm-$900...',\n",
              " 'Night has ended for another day, morning has come in a special way. May you smile like the sunny rays and leaves your worries at the blue blue bay.',\n",
              " 'Oh thanks a lot..i already bought 2 eggs ..',\n",
              " 'But your brother transfered only  &lt;#&gt;  +  &lt;#&gt; . Pa.',\n",
              " '\\\\SHIT BABE.. THASA BIT MESSED UP.YEH',\n",
              " 'Please protect yourself from e-threats. SIB never asks for sensitive information like Passwords,ATM/SMS PIN thru email. Never share your password with anybody.',\n",
              " 'Hello, my love ! How went your day ? Are you alright ? I think of you, my sweet and send a jolt to your heart to remind you ... I LOVE YOU! Can you hear it ? I screamed it across the sea for all the world to hear. Ahmad al Hallaq is loved ! and owned ! *possessive passionate kiss*',\n",
              " \"Anyway holla at me whenever you're around because I need an excuse to go creep on people in sarasota\",\n",
              " 'THING R GOOD THANX GOT EXAMS IN MARCH IVE DONE NO REVISION? IS FRAN STILL WITH BOYF? IVE GOTTA INTERVIW 4 EXETER BIT WORRIED!x',\n",
              " 'Still i have not checked it da. . .',\n",
              " 'Sure, whenever you show the fuck up &gt;:(',\n",
              " 'IM GONNA MISS U SO MUCH',\n",
              " 'Yes! I am a one woman man! Please tell me your likes and dislikes in bed...',\n",
              " 'Does uncle timi help in clearing cars',\n",
              " \"Ok Chinese food on its way. When I get fat you're paying for my lipo.\",\n",
              " \"Anyway i'm going shopping on my own now. Cos my sis not done yet. Dun disturb u liao.\",\n",
              " 'Mm i had my food da from out',\n",
              " 'Kind of. Took it to garage. Centre part of exhaust needs replacing. Part ordered n taking it to be fixed tomo morning.',\n",
              " 'R u saying i should re order the slippers cos i had to pay for returning it.',\n",
              " 'Pls give her the food preferably pap very slowly with loads of sugar. You can take up to an hour to give it. And then some water. Very very slowly.',\n",
              " 'Yes..he is really great..bhaji told kallis best cricketer after sachin in world:).very tough to get out.',\n",
              " 'A Boy loved a gal. He propsd bt she didnt mind. He gv lv lttrs, Bt her frnds threw thm. Again d boy decided 2 aproach d gal , dt time a truck was speeding towards d gal. Wn it was about 2 hit d girl,d boy ran like hell n saved her. She asked \\'hw cn u run so fast?\\' D boy replied \\\\Boost is d secret of my energy\\\\\" n instantly d girl shouted \\\\\"our energy\\\\\" n Thy lived happily 2gthr drinking boost evrydy Moral of d story:- I hv free msgs:D;): gud ni8\"',\n",
              " 'Your dad is back in ph?',\n",
              " 'Let there be snow. Let there be snow. This kind of weather brings ppl together so friendships can grow.',\n",
              " 'Yup. Wun believe wat? U really neva c e msg i sent shuhui?',\n",
              " 'We left already we at orchard now.',\n",
              " 'R U &SAM P IN EACHOTHER. IF WE MEET WE CAN GO 2 MY HOUSE',\n",
              " 'Fffff. Can you text kadeem or are you too far gone',\n",
              " 'K.k..how is your sister kids?',\n",
              " 'Oi. Ami parchi na re. Kicchu kaaj korte iccha korche na. Phone ta tul na. Plz. Plz.',\n",
              " 'Lmao. Take a pic and send it to me.',\n",
              " 'Somewhr someone is surely made 4 u. And God has decided a perfect time to make u meet dat person. . . . till den, . . . . . Enjoy ur crushes..!!!;-)',\n",
              " 'Oh wow thats gay. Will firmware update help',\n",
              " 'Oh... Okie lor...We go on sat... ',\n",
              " \"Well you told others you'd marry them...\",\n",
              " \"Oh ok.. Wat's ur email?\",\n",
              " \"You will be receiving this week's Triple Echo ringtone shortly. Enjoy it!\",\n",
              " 'I told that am coming on wednesday.',\n",
              " 'Dunno y u ask me.',\n",
              " \"It's not that you make me cry. It's just that when all our stuff happens on top of everything else, it pushes me over the edge. You don't underdtand how often i cry over my sorry, sorry life.\",\n",
              " 'Dunno, my dad said he coming home 2 bring us out 4 lunch. Yup i go w u lor. I call u when i reach school lor...',\n",
              " 'Bloody hell, cant believe you forgot my surname Mr . Ill give u a clue, its spanish and begins with m... ',\n",
              " 'My planning usually stops at \\\\find hella weed',\n",
              " 'I will spoil you in bed as well :)',\n",
              " 'No management puzzeles.',\n",
              " 'Who were those people ? Were you in a tour ? I thought you were doing that sofa thing you sent me ? Your curious sugar',\n",
              " 'K.. I yan jiu liao... Sat we can go 4 bugis vill one frm 10 to 3 den hop to parco 4 nb. Sun can go cine frm 1030 to 2, den hop to orc mrt 4 hip hop at 4...',\n",
              " 'Hmmm.but you should give it on one day..',\n",
              " 'Hey happy birthday...',\n",
              " 'Hi happy birthday. Hi hi hi hi hi hi hi',\n",
              " 'Ok lor.',\n",
              " 'New TEXTBUDDY Chat 2 horny guys in ur area 4 just 25p Free 2 receive Search postcode or at gaytextbuddy.com. TXT ONE name to 89693',\n",
              " \"I can't keep going through this. It was never my intention to run you out, but if you choose to do that rather than keep the room clean so *I* don't have to say no to visitors, then maybe that's the best choice. Yes, I wanted you to be embarassed, so maybe you'd feel for once how I feel when i have a friend who wants to drop buy and i have to say no, as happened this morning. I've tried everything. I don't know what else to do.\",\n",
              " 'Come by our room at some point so we can iron out the plan for this weekend',\n",
              " 'Dis is yijue. I jus saw ur mail. In case huiming havent sent u my num. Dis is my num.',\n",
              " \"I'll meet you in the lobby\",\n",
              " 'Dude we should go sup again',\n",
              " 'No my mum went 2 dentist.',\n",
              " 'I dont want to hear philosophy. Just say what happen',\n",
              " \"Err... Cud do. I'm going to  at 8pm. I haven't got a way to contact him until then.\",\n",
              " 'You have WON a guaranteed å£1000 cash or a å£2000 prize. To claim yr prize call our customer service representative on 08714712394 between 10am-7pm',\n",
              " 'all the lastest from Stereophonics, Marley, Dizzee Racal, Libertines and The Strokes! Win Nookii games with Flirt!! Click TheMob WAP Bookmark or text WAP to 82468',\n",
              " \"For me the love should start with attraction.i should feel that I need her every time around me.she should be the first thing which comes in my thoughts.I would start the day and end it with her.she should be there every time I dream.love will be then when my every breath has her name.my life should happen around her.my life will be named to her.I would cry for her.will give all my happiness and take all her sorrows.I will be ready to fight with anyone for her.I will be in love when I will be doing the craziest things for her.love will be when I don't have to proove anyone that my girl is the most beautiful lady on the whole planet.I will always be singing praises for her.love will be when I start up making chicken curry and end up makiing sambar.life will be the most beautiful then.will get every morning and thank god for the day because she is with me.I would like to say a lot..will tell later..\",\n",
              " \"Dude. What's up. How Teresa. Hope you have been okay. When i didnt hear from these people, i called them and they had received the package since dec  &lt;#&gt; . Just thot you'ld like to know. Do have a fantastic year and all the best with your reading. Plus if you can really really Bam first aid for Usmle, then your work is done.\",\n",
              " \"Ok then i'll let him noe later n ask him call u tmr...\",\n",
              " 'Sorry, was in the bathroom, sup',\n",
              " 'I will come with karnan car. Please wait till 6pm will directly goto doctor.',\n",
              " 'I called but no one pick up e phone. I ask both of them already they said ok.',\n",
              " \"Congrats. That's great. I wanted to tell you not to tell me your score cos it might make me relax. But its motivating me so thanks for sharing\",\n",
              " 'Ok u can take me shopping when u get paid =D',\n",
              " 'Is toshiba portege m100 gd?',\n",
              " \"Joy's father is John. Then John is the NAME of Joy's father. Mandan\",\n",
              " 'Lol! U drunkard! Just doing my hair at d moment. Yeah still up 4 tonight. Wats the plan? ',\n",
              " 'Just got part Nottingham - 3 hrs 63miles. Good thing i love my man so much, but only doing 40mph. Hey ho',\n",
              " 'To the wonderful Okors, have a great month. We cherish you guys and wish you well each day. MojiBiola',\n",
              " 'I feel like a dick because I keep sleeping through your texts and facebook messages. Sup, you in town?',\n",
              " 'Ok no prob. Take ur time.',\n",
              " 'Yeah just open chat and click friend lists. Then make the list. Easy as pie',\n",
              " \"Ok... But they said i've got wisdom teeth hidden inside n mayb need 2 remove.\",\n",
              " 'Purity of friendship between two is not about smiling after reading the forwarded message..Its about smiling just by seeing the name. Gud evng musthu',\n",
              " 'Block Breaker now comes in deluxe format with new features and great graphics from T-Mobile. Buy for just å£5 by replying GET BBDELUXE and take the challenge',\n",
              " 'Give one miss from that number please',\n",
              " 'Hanging out with my brother and his family',\n",
              " '\\\\alright babe',\n",
              " 'No calls..messages..missed calls',\n",
              " 'Good night my dear.. Sleepwell&amp;Take care',\n",
              " \"Yes I started to send requests to make it but pain came back so I'm back in bed. Double coins at the factory too. I gotta cash in all my nitros.\",\n",
              " 'Sez, hows u & de arab boy? Hope u r all good give my love 2 evry1 love ya eshxxxxxxxxxxx',\n",
              " \"I think it's all still in my car\",\n",
              " \"When're you guys getting back? G said you were thinking about not staying for mcr\",\n",
              " \"I remain unconvinced that this isn't an elaborate test of my willpower\",\n",
              " 'aathi..where are you dear..',\n",
              " 'We will meet soon princess! Ttyl!',\n",
              " \"Yes. They replied my mail. I'm going to the management office later. Plus will in to bank later also.or on wednesday.\",\n",
              " 'Good afternon, my love. How are today? I hope your good and maybe have some interviews. I wake and miss you babe. A passionate kiss from across the sea',\n",
              " 'You are being contacted by our dating service by someone you know! To find out who it is, call from a land line 09050000928. PoBox45W2TG150P',\n",
              " \"Sorry, I'll call later\",\n",
              " \"Sorry, I'll call later\",\n",
              " 'Are there TA jobs available? Let me know please cos i really need to start working',\n",
              " \"So there's a ring that comes with the guys costumes. It's there so they can gift their future yowifes. Hint hint\",\n",
              " 'So u workin overtime nigpun?',\n",
              " 'HI ITS KATE CAN U GIVE ME A RING ASAP XXX',\n",
              " \"But if she.s drinkin i'm ok.\",\n",
              " \"I'm so in love with you. I'm excited each day i spend with you. You make me so happy.\",\n",
              " 'Huh but i cant go 2 ur house empty handed right?',\n",
              " \"Jus telling u dat i'll b leaving 4 shanghai on 21st instead so we'll haf more time 2 meet up cya...\",\n",
              " \"Carlos says he'll be at mu in  &lt;#&gt;  minutes\",\n",
              " 'Jus finish bathing...',\n",
              " \"Lol they don't know about my awesome phone. I could click delete right now if I want.\",\n",
              " \"Well, i'm glad you didn't find it totally disagreeable ... Lol\",\n",
              " \"What's up. Do you want me to come online?\",\n",
              " \"Are you sure you don't mean \\\\get here\",\n",
              " 'Well that must be a pain to catch',\n",
              " 'Hey whats up? U sleeping all morning?',\n",
              " \"Hi. I'm always online on yahoo and would like to chat with you someday\",\n",
              " 'S s..first time..dhoni rocks...',\n",
              " \"U're welcome... Caught u using broken english again...\",\n",
              " ';-) ok. I feel like john lennon.',\n",
              " 'Natalja (25/F) is inviting you to be her friend. Reply YES-440 or NO-440 See her: www.SMS.ac/u/nat27081980 STOP? Send STOP FRND to 62468',\n",
              " ':( but your not here....',\n",
              " 'Good afternoon sexy buns! How goes the job search ? I wake and you are my first thought as always, my love. I wish your fine and happy and know I adore you!',\n",
              " 'HEY MATE! HOWS U HONEY?DID U AVE GOOD HOLIDAY? GIMMI DE GOSS!x',\n",
              " ', im .. On the snowboarding trip. I was wondering if your planning to get everyone together befor we go..a meet and greet kind of affair? Cheers, ',\n",
              " 'Ok i shall talk to him',\n",
              " 'The new deus ex game comin early next yr',\n",
              " 'Yes, princess. Are you going to make me moan?',\n",
              " 'I keep ten rs in my shelf:) buy two egg.',\n",
              " \"I only haf msn. It's yijue@hotmail.com\",\n",
              " \"Aah bless! How's your arm?\",\n",
              " 'Double mins and txts 4 6months FREE Bluetooth on Orange. Available on Sony, Nokia Motorola phones. Call MobileUpd8 on 08000839402 or call2optout/N9DX',\n",
              " 'India have to take lead:)',\n",
              " \"I wonder if you'll get this text?\",\n",
              " 'She.s good. She was wondering if you wont say hi but she.s smiling now. So how are you coping with the long distance',\n",
              " \"If you don't respond imma assume you're still asleep and imma start calling n shit\",\n",
              " 'It doesnt make sense to take it there unless its free. If you need to know more, wikipedia.com',\n",
              " 'Get ready to put on your excellent sub face :)',\n",
              " 'It vl bcum more difficult..',\n",
              " 'Thats cool. i liked your photos. You are very sexy!',\n",
              " 'complimentary 4 STAR Ibiza Holiday or å£10,000 cash needs your URGENT collection. 09066364349 NOW from Landline not to lose out! Box434SK38WP150PPM18+',\n",
              " 'Sounds great! Im going to sleep now. Have a good night!',\n",
              " 'At what time are you coming.',\n",
              " 'Your daily text from me \\x89ÛÒ a favour this time',\n",
              " \"Today's Offer! Claim ur å£150 worth of discount vouchers! Text YES to 85023 now! SavaMob, member offers mobile! T Cs 08717898035. å£3.00 Sub. 16 . Unsub reply X\",\n",
              " 'No need to buy lunch for me.. I eat maggi mee..',\n",
              " 'Want explicit SEX in 30 secs? Ring 02073162414 now! Costs 20p/min',\n",
              " 'And how you will do that, princess? :)',\n",
              " 'Yo sorry was in the shower sup',\n",
              " 'Its ok., i just askd did u knw tht no?',\n",
              " 'Send his number and give reply tomorrow morning for why you said that to him like that ok',\n",
              " \"I thought i'd get him a watch, just cos thats the kind of thing u get4an18th. And he loves so much!\",\n",
              " 'I not free today i haf 2 pick my parents up tonite...',\n",
              " 'Lol I was gonna last month. I cashed some in but I left &lt;#&gt; just in case. I was collecting more during the week cause they announced it on the blog.',\n",
              " 'Just curious because my cuz asked what I was up to',\n",
              " \"Which is why i never wanted to tell you any of this. Which is why i'm so short with you and on-edge as of late.\",\n",
              " 'Tiwary to rcb.battle between bang and kochi.',\n",
              " \"What's up bruv, hope you had a great break. Do have a rewarding semester.\",\n",
              " ' what number do u live at? Is it 11?',\n",
              " 'Its ok, if anybody asks abt me, u tel them..:-P',\n",
              " \"Well there's a pattern emerging of my friends telling me to drive up and come smoke with them and then telling me that I'm a weed fiend/make them smoke too much/impede their doing other things so you see how I'm hesitant\",\n",
              " 'Leave it. U will always be ignorant.',\n",
              " \"Yeah that's the impression I got\",\n",
              " 'Oh oh... Wasted... Den muz chiong on sat n sun liao...',\n",
              " 'I am taking you for italian food. How about a pretty dress with no panties? :)',\n",
              " \"Anyway seriously hit me up when you're back because otherwise I have to light up with armand and he always has shit and/or is vomiting\",\n",
              " 'YES! The only place in town to meet exciting adult singles is now in the UK. Txt CHAT to 86688 now! 150p/Msg.',\n",
              " 'Then just eat a shit and wait for ur monkey face bitch.......... U asshole..................',\n",
              " 'Havent still waitin as usual... ÌÏ come back sch oredi?',\n",
              " '7 lor... Change 2 suntec... Wat time u coming?',\n",
              " 'Got it..mail panren paru..',\n",
              " 'Y de asking like this.',\n",
              " 'Hello, hello, hi lou sorry it took so long 2 reply- I left mobile at friends in Lancaster, just got it bak Neway im sorry I couldnåÕt make ur båÕday 2 hun!',\n",
              " \"Ooh, 4got, i'm gonna start belly dancing in moseley weds 6.30 if u want 2 join me, they have a cafe too. \",\n",
              " 'Now press conference da:)',\n",
              " 'You have won a Nokia 7250i. This is what you get when you win our FREE auction. To take part send Nokia to 86021 now. HG/Suite342/2Lands Row/W1JHL 16+',\n",
              " \"Not yet. Just i'd like to keep in touch and it will be the easiest way to do that from barcelona. By the way how ru and how is the house?\",\n",
              " 'This weeks SavaMob member offers are now accessible. Just call 08709501522 for details! SavaMob, POBOX 139, LA3 2WU. Only å£1.50/week. SavaMob - offers mobile!',\n",
              " 'Have a good evening! Ttyl',\n",
              " 'I gotta collect da car at 6 lei.',\n",
              " 'I am getting threats from your sales executive Shifad as i raised complaint against him. Its an official message.',\n",
              " 'What time should I tell my friend to be around?',\n",
              " 'Ever green quote ever told by Jerry in cartoon \\\\A Person Who Irritates u Always Is the one Who Loves u Vry Much But Fails to Express It...!..!! :-) :-) gud nyt\"',\n",
              " 'As a SIM subscriber, you are selected to receive a Bonus! Get it delivered to your door, Txt the word OK to No: 88600 to claim. 150p/msg, EXP. 30Apr',\n",
              " \"I'll text you when I drop x off\",\n",
              " 'Hi mate its RV did u hav a nice hol just a message 3 say hello coz havenåÕt sent u 1 in ages started driving so stay off roads!RVx',\n",
              " \"network operator. The service is free. For T & C's visit 80488.biz\",\n",
              " 'FREE MESSAGE Activate your 500 FREE Text Messages by replying to this message with the word FREE For terms & conditions, visit www.07781482378.com',\n",
              " 'Hi, the SEXYCHAT girls are waiting for you to text them. Text now for a great night chatting. send STOP to stop this service',\n",
              " 'How much for an eighth?',\n",
              " 'You can stop further club tones by replying \\\\STOP MIX\\\\\" See my-tone.com/enjoy. html for terms. Club tones cost GBP4.50/week. MFL',\n",
              " 'Good morning princess! How are you?',\n",
              " 'Kay... Since we are out already ',\n",
              " 'Its a part of checking IQ',\n",
              " \"I'm at home. Please call\",\n",
              " 'i dnt wnt to tlk wid u',\n",
              " \"Today's Offer! Claim ur å£150 worth of discount vouchers! Text YES to 85023 now! SavaMob, member offers mobile! T Cs 08717898035. å£3.00 Sub. 16 . Unsub reply X\",\n",
              " 'Do u knw dis no. &lt;#&gt; ?',\n",
              " \"Cool, I'll text you in a few\",\n",
              " \" said kiss, kiss, i can't do the sound effects! He is a gorgeous man isn't he! Kind of person who needs a smile to brighten his day! \",\n",
              " \"The guy did some bitching but I acted like i'd be interested in buying something else next week and he gave it to us for free\",\n",
              " \"I've reached sch already...\",\n",
              " 'You call him now ok i said call him',\n",
              " 'Good afternoon, my love. It was good to see your words on YM and get your tm. Very smart move, my slave ... *smiles* ... I drink my coffee and await you.',\n",
              " 'SMS AUCTION You have won a Nokia 7250i. This is what you get when you win our FREE auction. To take part send Nokia to 86021 now. HG/Suite342/2Lands Row/W1JHL 16+',\n",
              " 'i cant talk to you now.i will call when i can.dont keep calling.',\n",
              " '1st wk FREE! Gr8 tones str8 2 u each wk. Txt NOKIA ON to 8007 for Classic Nokia tones or HIT ON to 8007 for Polys. Nokia/150p Poly/200p 16+',\n",
              " 'So lets make it saturday or monday as per convenience.',\n",
              " 'Then why you came to hostel.',\n",
              " 'God picked up a flower and dippeditinaDEW, lovingly touched itwhichturnedinto u, and the he gifted tomeandsaid,THIS FRIEND IS 4U',\n",
              " 'But i dint slept in afternoon.',\n",
              " 'Wah lucky man... Then can save money... Hee...',\n",
              " 'Oh ho. Is this the first time u use these type of words',\n",
              " 'Unlimited texts. Limited minutes.',\n",
              " \", how's things? Just a quick question.\",\n",
              " 'Thats cool princess! I will cover your face in hot sticky cum :)',\n",
              " 'Surely result will offer:)',\n",
              " 'I just lov this line: \\\\Hurt me with the truth',\n",
              " \"Sorry, I'll call later in meeting.\",\n",
              " \"What's happening with you. Have you gotten a job and have you begun registration for permanent residency\",\n",
              " 'Was playng 9 doors game and gt racing on phone lol',\n",
              " \"He's really into skateboarding now despite the fact that he gets thrown off of it and winds up with bandages and shit all over his arms every five minutes\",\n",
              " 'I asked you to call him now ok',\n",
              " 'I cant pick the phone right now. Pls send a message',\n",
              " 'Dunno lei he neva say...',\n",
              " 'Hi! This is Roger from CL. How are you?',\n",
              " 'Oh k. . I will come tomorrow',\n",
              " 'TELL HER I SAID EAT SHIT.',\n",
              " 'Hey pple...$700 or $900 for 5 nights...Excellent location wif breakfast hamper!!!',\n",
              " \"She said,'' do u mind if I go into the bedroom for a minute ? '' ''OK'', I sed in a sexy mood. She came out 5 minuts latr wid a cake...n My Wife,\",\n",
              " 'I accidentally deleted the message. Resend please.',\n",
              " 'Mm i am on the way to railway',\n",
              " 'Nvm take ur time.',\n",
              " \"Who's there say hi to our drugdealer\",\n",
              " \"I'm job profile seems like bpo..\",\n",
              " \"By the way, i've put a skip right outside the front of the house so you can see which house it is. Just pull up before it.\",\n",
              " 'Total video converter free download type this in google search:)',\n",
              " 'Are u coming to the funeral home',\n",
              " 'You are guaranteed the latest Nokia Phone, a 40GB iPod MP3 player or a å£500 prize! Txt word: COLLECT to No: 83355! IBHltd LdnW15H 150p/Mtmsgrcvd18+',\n",
              " 'I just got home babe, are you still awake ?',\n",
              " 'Can you tell Shola to please go to college of medicine and visit the academic department, tell the academic secretary what the current situation is and ask if she can transfer there. She should ask someone to check Sagamu for the same thing and lautech. Its vital she completes her medical education in Nigeria. Its less expensive much less expensive. Unless she will be getting citizen rates in new zealand.',\n",
              " '3. You have received your mobile content. Enjoy',\n",
              " 'Hi babe its Chloe, how r u? I was smashed on saturday night, it was great! How was your weekend? U been missing me? SP visionsms.com Text stop to stop 150p/text',\n",
              " 'Playin space poker, u?',\n",
              " \"Sorry, I'll call you  later. I am in meeting sir.\",\n",
              " \"All was well until slightly disastrous class this pm with my fav darlings! Hope day off ok. Coffee wld be good as can't stay late tomorrow. Same time + place as always?\",\n",
              " 'hanks lotsly!',\n",
              " 'K tell me anything about you.',\n",
              " \"K come to nordstrom when you're done\",\n",
              " 'Kit Strip - you have been billed 150p. Netcollex Ltd. PO Box 1013 IG11 OJA',\n",
              " 'Eatin my lunch...',\n",
              " \"So how's the weather over there?\",\n",
              " 'Only just got this message, not ignoring you. Yes, i was. Shopping that is',\n",
              " 'Get the official ENGLAND poly ringtone or colour flag on yer mobile for tonights game! Text TONE or FLAG to 84199. Optout txt ENG STOP Box39822 W111WX å£1.50',\n",
              " 'Free Top ringtone -sub to weekly ringtone-get 1st week free-send SUBPOLY to 81618-?3 per week-stop sms-08718727870',\n",
              " 'Someone has conacted our dating service and entered your phone because they fancy you!To find out who it is call from landline 09111030116. PoBox12n146tf15',\n",
              " 'Please dont say like that. Hi hi hi',\n",
              " 'You have registered Sinco as Payee. Log in at icicibank.com and enter URN  &lt;#&gt;  to confirm. Beware of frauds. Do NOT share or disclose URN to anyone.',\n",
              " 'Yes..but they said its IT.,',\n",
              " 'I can send you a pic if you like :)',\n",
              " \"Ok no prob... I'll come after lunch then...\",\n",
              " \"I forgot 2 ask Ì_ all smth.. There's a card on da present lei... How? ÌÏ all want 2 write smth or sign on it?\",\n",
              " 'Fighting with the world is easy, u either win or lose bt fightng with some1 who is close to u is dificult if u lose - u lose if u win - u still lose.',\n",
              " \"Forgot you were working today! Wanna chat, but things are ok so drop me a text when you're free / bored etc and i'll ring. Hope all is well, nose essay and all xx\",\n",
              " 'Tmr then Ì_ brin lar... Aiya later i come n c lar... Mayb Ì_ neva set properly Ì_ got da help sheet wif Ì_...',\n",
              " 'Bishan lar nearer... No need buy so early cos if buy now i gotta park my car...',\n",
              " 'Pandy joined 4w technologies today.he got job..',\n",
              " \"What's your room number again? Wanna make sure I'm knocking on the right door\",\n",
              " 'ÌÏ give me some time to walk there.',\n",
              " 'Company is very good.environment is terrific and food is really nice:)',\n",
              " 'You can jot down things you want to remember later.',\n",
              " 'YOUR CHANCE TO BE ON A REALITY FANTASY SHOW call now = 08707509020 Just 20p per min NTT Ltd, PO Box 1327 Croydon CR9 5WB 0870 is a national = rate call.',\n",
              " 'Edison has rightly said, \\\\A fool can ask more questions than a wise man can answer\\\\\" Now you know why all of us are speechless during ViVa.. GM',\n",
              " \"Hey... Thk we juz go accordin to wat we discussed yest lor, except no kb on sun... Cos there's nt much lesson to go if we attend kb on sat...\",\n",
              " \"I know where the  &lt;#&gt;  is, I'll be there around 5\",\n",
              " \"Oh fine, I'll be by tonight\",\n",
              " 'I will be gentle baby! Soon you will be taking all  &lt;#&gt;  inches deep inside your tight pussy...',\n",
              " 'So what about you. What do you remember',\n",
              " 'In which place i can get rooms cheap:-)',\n",
              " 'Shopping lor. Them raining mah hard 2 leave orchard.',\n",
              " 'Shuhui say change 2 suntec steamboat? U noe where? Where r u now?',\n",
              " 'My sister going to earn more than me da.',\n",
              " 'at bruce b downs &amp; fletcher now',\n",
              " 'I can make lasagna for you... vodka...',\n",
              " 'Oh is it? Send me the address',\n",
              " 'Urgent! call 09061749602 from Landline. Your complimentary 4* Tenerife Holiday or å£10,000 cash await collection SAE T&Cs BOX 528 HP20 1YF 150ppm 18+',\n",
              " 'Todays Voda numbers ending 7548 are selected to receive a $350 award. If you have a match please call 08712300220 quoting claim code 4041 standard rates app',\n",
              " 'You didnt complete your gist oh.',\n",
              " 'Urgent -call 09066649731from Landline. Your complimentary 4* Ibiza Holiday or å£10,000 cash await collection SAE T&Cs PO BOX 434 SK3 8WP 150ppm 18+',\n",
              " 'Alright took the morphine. Back in yo.',\n",
              " 'U WILL SWITCH YOUR FONE ON DAMMIT!!',\n",
              " 'either way works for me. I am  &lt;#&gt;  years old. Hope that doesnt bother you.',\n",
              " 'Bored housewives! Chat n date now! 0871750.77.11! BT-national rate 10p/min only from landlines!',\n",
              " 'New car and house for my parents.:)i have only new job in hand:)',\n",
              " \"I'm tired of arguing with you about this week after week. Do what you want and from now on, i'll do the same.\",\n",
              " 'Today is ACCEPT DAY..U Accept me as? Brother Sister Lover Dear1 Best1 Clos1 Lvblefrnd Jstfrnd Cutefrnd Lifpartnr Belovd Swtheart Bstfrnd No rply means enemy',\n",
              " 'Then any special there?',\n",
              " 'Ok.. ÌÏ finishing soon?',\n",
              " 'Babe ! What are you doing ? Where are you ? Who are you talking to ? Do you think of me ? Are you being a good boy? Are you missing me? Do you love me ?',\n",
              " 'Sian... Aft meeting supervisor got work 2 do liao... U working now?',\n",
              " \"Sorry, I'll call later\",\n",
              " 'Hey I am really horny want to chat or see me naked text hot to 69698 text charged at 150pm to unsubscribe text stop 69698',\n",
              " 'Feb  &lt;#&gt;  is \\\\I LOVE U\\\\\" day. Send dis to all ur \\\\\"VALUED FRNDS\\\\\" evn me. If 3 comes back u\\'ll gt married d person u luv! If u ignore dis u will lose ur luv 4 Evr\"',\n",
              " '5 Free Top Polyphonic Tones call 087018728737, National Rate. Get a toppoly tune sent every week, just text SUBPOLY to 81618, å£3 per pole. UnSub 08718727870.',\n",
              " \"1000's flirting NOW! Txt GIRL or BLOKE & ur NAME & AGE, eg GIRL ZOE 18 to 8007 to join and get chatting!\",\n",
              " 'Just gettin a bit arty with my collages at the mo, well tryin 2 ne way! Got a roast in a min lovely i shall enjoy that!',\n",
              " 'And several to you sir.',\n",
              " 'Why do you ask princess?',\n",
              " \"Am slow in using biola's fne\",\n",
              " 'URGENT. Important information for 02 user. Today is your lucky day! 2 find out why , log onto http://www.urawinner.com there is a fantastic surprise awaiting you !',\n",
              " \"Hmm...my uncle just informed me that he's paying the school directly. So pls buy food.\",\n",
              " 'Do you know when dad will be back?',\n",
              " 'I am in office:)whats the matter..msg me now.i will call you at break:).',\n",
              " 'U free on sat rite? U wan 2 watch infernal affairs wif me n darren n mayb xy?',\n",
              " \"Dun b sad.. It's over.. Dun thk abt it already. Concentrate on ur other papers k.\",\n",
              " '1) Go to write msg 2) Put on Dictionary mode 3)Cover the screen with hand, 4)Press  &lt;#&gt; . 5)Gently remove Ur hand.. Its interesting..:)',\n",
              " 'Still work going on:)it is very small house.',\n",
              " 'How long has it been since you screamed, princess?',\n",
              " 'Dear how is chechi. Did you talk to her',\n",
              " 'Holy living christ what is taking you so long',\n",
              " 'Goal! Arsenal 4 (Henry, 7 v Liverpool 2 Henry scores with a simple shot from 6 yards from a pass by Bergkamp to give Arsenal a 2 goal margin after 78 mins.',\n",
              " 'Oic cos me n my sis got no lunch today my dad went out... So dunno whether 2 eat in sch or wat...',\n",
              " 'Old Orchard near univ. How about you?',\n",
              " 'Camera - You are awarded a SiPix Digital Camera! call 09061221066 fromm landline. Delivery within 28 days.',\n",
              " 'Ok... Then r we meeting later?',\n",
              " 'Pls speak to that customer machan.',\n",
              " 'Can do lor...',\n",
              " 'Just finished. Missing you plenty',\n",
              " 'Urgent Urgent! We have 800 FREE flights to Europe to give away, call B4 10th Sept & take a friend 4 FREE. Call now to claim on 09050000555. BA128NNFWFLY150ppm',\n",
              " 'S da..al r above  &lt;#&gt;',\n",
              " \"Carlos is taking his sweet time as usual so let me know when you and patty are done/want to smoke and I'll tell him to haul ass\",\n",
              " \"Ok, be careful ! Don't text and drive !\",\n",
              " 'Thanks for picking up the trash.',\n",
              " 'Yes. Please leave at  &lt;#&gt; . So that at  &lt;#&gt;  we can leave',\n",
              " \"He's in lag. That's just the sad part but we keep in touch thanks to skype\",\n",
              " 'Have you always been saying welp?',\n",
              " 'I am on the way to ur home',\n",
              " 'This weekend is fine (an excuse not to do too much decorating)',\n",
              " \"Hi! You just spoke to MANEESHA V. We'd like to know if you were satisfied with the experience. Reply Toll Free with Yes or No.\",\n",
              " \"Hiya, sorry didn't hav signal. I haven't seen or heard from and neither has, which is unusual in itself! I'll put on the case and get him to sort it out! Hugs and snogs.\",\n",
              " \"I'm in class. Did you get my text.\",\n",
              " \"Don't forget who owns you and who's private property you are ... And be my good boy always .. *passionate kiss*\",\n",
              " 'watever reLation u built up in dis world only thing which remains atlast iz lonlines with lotz n lot memories! feeling..',\n",
              " \"I'm leaving my house now...\",\n",
              " \"Nope wif my sis lor... Aft bathing my dog then i can bathe... Looks like it's going 2 rain soon.\",\n",
              " 'Send to someone else :-)',\n",
              " 'Tell me pa. How is pain de.',\n",
              " 'Yes just finished watching days of our lives. I love it.',\n",
              " 'Remember to ask alex about his pizza',\n",
              " 'WOT U WANNA DO THEN MISSY?',\n",
              " 'cud u tell ppl im gona b a bit l8 cos 2 buses hav gon past cos they were full & im still waitin 4 1. Pete x',\n",
              " 'When u love someone Dont make them to love u as much as u do. But Love them so much that they dont want to be loved by anyone except you... Gud nit.',\n",
              " 'So Ì_ pay first lar... Then when is da stock comin...',\n",
              " 'Free video camera phones with Half Price line rental for 12 mths and 500 cross ntwk mins 100 txts. Call MobileUpd8 08001950382 or Call2OptOut/674',\n",
              " \"Can you let me know details of fri when u find out cos I'm not in tom or fri. mentionned chinese. Thanks\",\n",
              " 'Tell your friends what you plan to do on Valentines day @ &lt;URL&gt;',\n",
              " 'RECPT 1/3. You have ordered a Ringtone. Your order is being processed...',\n",
              " 'ÌÏ ready then call me...',\n",
              " '\\\\Si.como no?!listened2the plaid album-quite gd&the new air1 which is hilarious-also boughtåÓbraindanceåÓa comp.ofstuff on aphexåÕs ;abel',\n",
              " 'WINNER!! As a valued network customer you have been selected to receivea å£900 prize reward! To claim call 09061701461. Claim code KL341. Valid 12 hours only.',\n",
              " \"I've got it down to a tea. not sure which flavour\",\n",
              " '2 and half years i missed your friendship:-)',\n",
              " 'URGENT, IMPORTANT INFORMATION FOR O2 USER. TODAY IS YOUR LUCKY DAY! 2 FIND OUT WHY LOG ONTO HTTP://WWW.URAWINNER.COM THERE IS A FANTASTIC SURPRISE AWAITING FOR YOU',\n",
              " 'Your account has been credited with 500 FREE Text Messages. To activate, just txt the word: CREDIT to No: 80488 T&Cs www.80488.biz',\n",
              " \"Collect your VALENTINE'S weekend to PARIS inc Flight & Hotel + å£200 Prize guaranteed! Text: PARIS to No: 69101. www.rtf.sphosting.com\",\n",
              " 'Tell rob to mack his gf in the theater',\n",
              " 'Ok omw now, you at castor?',\n",
              " 'Ball is moving a lot.will spin in last :)so very difficult to bat:)',\n",
              " \"Is ur changes 2 da report big? Cos i've already made changes 2 da previous report.\",\n",
              " 'Gud ni8 dear..slp well..take care..swt dreams..Muah..',\n",
              " 'Well welp is sort of a semiobscure internet thing',\n",
              " 'Good. Good job. I like entrepreneurs',\n",
              " 'Are you ok. What happen to behave like this',\n",
              " \"And I don't plan on staying the night but I prolly won't be back til late\",\n",
              " 'Huh y lei...',\n",
              " \"Ugh fuck it I'm resubbing to eve\",\n",
              " 'Lol they were mad at first but then they woke up and gave in.',\n",
              " 'Multiply the numbers independently and count decimal points then, for the division, push the decimal places like i showed you.',\n",
              " 'Yalru lyfu astne chikku.. Bt innu mundhe lyf ali halla ke bilo (marriage)program edhae, so lyf is nt yet ovr chikku..ali vargu lyfu meow meow:-D',\n",
              " '<Forwarded from 21870000>Hi - this is your Mailbox Messaging SMS alert. You have 40 matches. Please call back on 09056242159 to retrieve your messages and matches cc100p/min',\n",
              " 'Hi da:)how is the todays class?',\n",
              " 'What you doing?how are you?',\n",
              " 'Is that on the telly? No its Brdget Jones!',\n",
              " 'House-Maid is the murderer, coz the man was murdered on  &lt;#&gt; th January.. As public holiday all govt.instituitions are closed,including post office..understand?',\n",
              " 'PRIVATE! Your 2004 Account Statement for 078498****7 shows 786 unredeemed Bonus Points. To claim call 08719180219 Identifier Code: 45239 Expires 06.05.05',\n",
              " \"If I was I wasn't paying attention\",\n",
              " \"500 free text msgs. Just text ok to 80488 and we'll credit your account\",\n",
              " 'How are you enjoying this semester? Take care brother.',\n",
              " 'Haha... Really oh no... How? Then will they deduct your lesson tmr?',\n",
              " \"K I'll be sure to get up before noon and see what's what\",\n",
              " \"FREE2DAY sexy St George's Day pic of Jordan!Txt PIC to 89080 dont miss out, then every wk a saucy celeb!4 more pics c PocketBabe.co.uk 0870241182716 å£3/wk\",\n",
              " 'Ok which your another number',\n",
              " \"Hi frnd, which is best way to avoid missunderstding wit our beloved one's?\",\n",
              " \"Not really dude, have no friends i'm afraid :(\",\n",
              " 'K.k:)when are you going?',\n",
              " 'Are you planning to come chennai?',\n",
              " \"You're gonna have to be way more specific than that\",\n",
              " \"Haven't found a way to get another app for your phone, eh ? Will you go to the net cafe ? Did you take that job? Geeee I need you babe. I crave to see you ...\",\n",
              " 'Japanese Proverb: If one Can do it, U too Can do it, If none Can do it,U must do it Indian version: If one Can do it, LET HIM DO it.. If none Can do it,LEAVE it!! And finally Kerala version: If one can do it, Stop him doing it.. If none can do it, Make a strike against it ...',\n",
              " 'Compliments to you. Was away from the system. How your side.',\n",
              " 'As a Registered Subscriber yr draw 4 a å£100 gift voucher will b entered on receipt of a correct ans. When are the next olympics. Txt ans to 80062',\n",
              " 'I will come to ur home now',\n",
              " 'Ok lar i double check wif da hair dresser already he said wun cut v short. He said will cut until i look nice.',\n",
              " \"You said to me before i went back to bed that you can't sleep for anything.\",\n",
              " 'You unbelievable faglord',\n",
              " 'I went to ur hon lab but no one is there.',\n",
              " 'I dont know exactly could you ask chechi.',\n",
              " \"Sad story of a Man - Last week was my b'day. My Wife did'nt wish me. My Parents forgot n so did my Kids . I went to work. Even my Colleagues did not wish.\",\n",
              " 'No problem with the renewal. I.ll do it right away but i dont know his details.',\n",
              " 'Hi this is yijue, can i meet u at 11 tmr?',\n",
              " \"Yetunde i'm in class can you not run water on it to make it ok. Pls now.\",\n",
              " 'Is ur paper in e morn or aft tmr?',\n",
              " 'U havenåÕt lost me ill always b here 4u.i didnåÕt intend 2 hurt u but I never knew how u felt about me when Iwas+marine&thatåÕs what itried2tell urmom.i careabout u',\n",
              " \"By the way, 'rencontre' is to meet again. Mountains dont....\",\n",
              " 'I have to take exam with in march 3',\n",
              " 'Ok anyway no need to change with what you said',\n",
              " 'Have you heard from this week?',\n",
              " 'How do you guys go to see movies on your side.',\n",
              " \"Hey, iouri gave me your number, I'm wylie, ryan's friend\",\n",
              " 'Wishing you and your family Merry \\\\X\\\\\" mas and HAPPY NEW Year in advance..\"',\n",
              " \"Excellent, I'll see what riley's plans are\",\n",
              " 'Yavnt tried yet and never played original either',\n",
              " 'It is only yesterday true true.',\n",
              " 'Waiting 4 my tv show 2 start lor... U leh still busy doing ur report?',\n",
              " 'Yes ammae....life takes lot of turns you can only sit and try to hold the steering...',\n",
              " 'How come?',\n",
              " 'This is all just creepy and crazy to me.',\n",
              " 'I sent your maga that money yesterday oh.',\n",
              " 'My sister got placed in birla soft da:-)',\n",
              " \"Can... I'm free...\",\n",
              " 'Sexy Singles are waiting for you! Text your AGE followed by your GENDER as wither M or F E.G.23F. For gay men text your AGE followed by a G. e.g.23G.',\n",
              " 'You in your room? I need a few',\n",
              " 'Reply to win å£100 weekly! Where will the 2006 FIFA World Cup be held? Send STOP to 87239 to end service',\n",
              " 'K.k.how is your business now?',\n",
              " 'No! But we found a diff farm shop to buy some cheese. On way back now, can i call in?',\n",
              " \"Jay wants to work out first, how's 4 sound?\",\n",
              " 'I don wake since. I checked that stuff and saw that its true no available spaces. Pls call the embassy or send a mail to them.',\n",
              " 'If he started searching he will get job in few days.he have great potential and talent.',\n",
              " \"Nothing really, just making sure everybody's up to speed\",\n",
              " \"I'll talk to the others and probably just come early tomorrow then\",\n",
              " \"S.i'm watching it in live..\",\n",
              " 'S:-)if we have one good partnership going we will take lead:)',\n",
              " 'Now u sound like manky scouse boy steve,like! I is travelling on da bus home.wot has u inmind 4 recreation dis eve?',\n",
              " 'aight we can pick some up, you open before tonight?',\n",
              " 'Yo theres no class tmrw right?',\n",
              " 'SMS. ac JSco: Energy is high, but u may not know where 2channel it. 2day ur leadership skills r strong. Psychic? Reply ANS w/question. End? Reply END JSCO',\n",
              " 'Thanks again for your reply today. When is ur visa coming in. And r u still buying the gucci and bags. My sister things are not easy, uncle john also has his own bills so i really need to think about how to make my own money. Later sha.',\n",
              " 'I dont know what to do to come out of this so only am ask questions like this dont mistake me.',\n",
              " \"Let me know how to contact you. I've you settled in a room. Lets know you are ok.\",\n",
              " 'Ummmmmaah Many many happy returns of d day my dear sweet heart.. HAPPY BIRTHDAY dear',\n",
              " 'Small problem in auction:)punj now asking tiwary',\n",
              " 'Dear got train and seat mine lower seat',\n",
              " 'ITS A LAPTOP TAKE IT WITH YOU.',\n",
              " \"Ok give me 5 minutes I think I see her. BTW you're my alibi. You were cutting my hair the whole time.\",\n",
              " 'You are being contacted by our dating service by someone you know! To find out who it is, call from a land line 09050000878. PoBox45W2TG150P',\n",
              " \"Unless it's a situation where YOU GO GURL would be more appropriate\",\n",
              " 'Im in inperialmusic listening2the weirdest track ever byåÓleafcutter johnåÓ-sounds like insects being molested&someone plumbing,remixed by evil men on acid!',\n",
              " 'My painful personal thought- \\\\I always try to keep everybody happy all the time. But nobody recognises me when i am alone\\\\\"\"',\n",
              " 'I hope your pee burns tonite.',\n",
              " 'Ah you see. You have to be in the lingo. I will let you know wot on earth it is when has finished making it!',\n",
              " 'Your opinion about me? 1. Over 2. Jada 3. Kusruthi 4. Lovable 5. Silent 6. Spl character 7. Not matured 8. Stylish 9. Simple Pls reply..',\n",
              " 'Got ur mail Dileep.thank you so muchand look forward to lots of support...very less contacts here,remember one venugopal you mentioned.tomorrow if not late,i shall try to come up till there.goodnight dear.',\n",
              " 'Pls pls find out from aunt nike.',\n",
              " 'Mathews or tait or edwards or anderson',\n",
              " 'ok....take care.umma to you too...',\n",
              " \"Don't make life too stressfull.. Always find time to Laugh.. It may not add years to your Life! But surely adds more life to ur years!! Gud ni8..swt dreams..\",\n",
              " 'Great NEW Offer - DOUBLE Mins & DOUBLE Txt on best Orange tariffs AND get latest camera phones 4 FREE! Call MobileUpd8 free on 08000839402 NOW! or 2stoptxt T&Cs',\n",
              " 'The beauty of life is in next second.. which hides thousands of secrets. I wish every second will be wonderful in ur life...!! gud n8',\n",
              " \"I'll be in sch fr 4-6... I dun haf da book in sch... It's at home...\",\n",
              " 'K k pa Had your lunch aha.',\n",
              " 'Summers finally here! Fancy a chat or flirt with sexy singles in yr area? To get MATCHED up just reply SUMMER now. Free 2 Join. OptOut txt STOP Help08714742804',\n",
              " 'Get down in gandhipuram and walk to cross cut road. Right side &lt;#&gt; street road and turn at first right.',\n",
              " 'Haha... Where got so fast lose weight, thk muz go 4 a month den got effect... Gee,later we go aust put bk e weight.',\n",
              " 'What Today-sunday..sunday is holiday..so no work..',\n",
              " 'u r a winner U ave been specially selected 2 receive å£1000 cash or a 4* holiday (flights inc) speak to a live operator 2 claim 0871277810710p/min (18 )',\n",
              " 'Okie...',\n",
              " \"Oh my god! I've found your number again! I'm so glad, text me back xafter this msgs cst std ntwk chg å£1.50\",\n",
              " \"Nobody names their penis a girls name this story doesn't add up at all\",\n",
              " \"I'm not sure, I was just checking out what was happening around the area\",\n",
              " 'Take some small dose tablet for fever',\n",
              " \"I've not sent it. He can send me.\",\n",
              " 'Kothi print out marandratha.',\n",
              " 'o turns out i had stereo love on mi phone under the unknown album.',\n",
              " \"Dunno cos i was v late n when i reach they inside already... But we ate spageddies lor... It's e gals who r laughing at me lor...\",\n",
              " 'Good afternoon loverboy ! How goes you day ? Any luck come your way? I think of you, sweetie and send my love across the sea to make you smile and happy',\n",
              " 'What to think no one saying clearly. Ok leave no need to ask her. I will go if she come or not',\n",
              " \"Sorry, I'll call later in meeting\",\n",
              " 'UR GOING 2 BAHAMAS! CallFREEFONE 08081560665 and speak to a live operator to claim either Bahamas cruise ofå£2000 CASH 18+only. To opt out txt X to 07786200117',\n",
              " 'Romantic Paris. 2 nights, 2 flights from å£79 Book now 4 next year. Call 08704439680Ts&Cs apply.',\n",
              " 'Asking do u knw them or nt? May be ur frnds or classmates?',\n",
              " 'Yup bathe liao...',\n",
              " 'Dear all, as we know  &lt;#&gt; th is the  &lt;#&gt; th birthday of our loving Gopalettan. We are planning to give a small gift on that day. Those who like to participate in that you are welcome. Please contact our admin team for more details',\n",
              " 'Really? I crashed out cuddled on my sofa.',\n",
              " 'Hi. Hope ur day * good! Back from walk, table booked for half eight. Let me know when ur coming over.',\n",
              " \"When people see my msgs, They think Iam addicted to msging... They are wrong, Bcoz They don\\\\'t know that Iam addicted to my sweet Friends..!! BSLVYL\",\n",
              " \"I'm really not up to it still tonight babe\",\n",
              " \"Just send a text. We'll skype later.\",\n",
              " 'Congratulations - Thanks to a good friend U have WON the å£2,000 Xmas prize. 2 claim is easy, just call 08712103738 NOW! Only 10p per minute. BT-national-rate',\n",
              " 'Ok i juz receive..',\n",
              " 'YOUR CHANCE TO BE ON A REALITY FANTASY SHOW call now = 08707509020 Just 20p per min NTT Ltd, PO Box 1327 Croydon CR9 5WB 0870 is a national = rate call',\n",
              " \"As I entered my cabin my PA said, '' Happy B'day Boss !!''. I felt special. She askd me 4 lunch. After lunch she invited me to her apartment. We went there.\",\n",
              " 'Reason is if the team budget is available at last they buy the unsold players for at base rate..',\n",
              " \"U wan 2 haf lunch i'm in da canteen now.\",\n",
              " 'HOW ARE U? I HAVE MISSED U! I HAVENT BEEN UP 2 MUCH A BIT BORED WITH THE HOLIDAY WANT 2 GO BAK 2 COLLEGE! SAD ISNT IT?xx',\n",
              " 'No prob. I will send to your email.',\n",
              " 'You have been specially selected to receive a \\\\3000 award! Call 08712402050 BEFORE the lines close. Cost 10ppm. 16+. T&Cs apply. AG Promo\"',\n",
              " 'Shall i come to get pickle',\n",
              " \"Change again... It's e one next to escalator...\",\n",
              " 'I have no money 4 steve mate! !',\n",
              " 'K.k.this month kotees birthday know?',\n",
              " 'The sign of maturity is not when we start saying big things.. But actually it is, when we start understanding small things... *HAVE A NICE EVENING* BSLVYL',\n",
              " '\\\\Life is nothing wen v get everything\\\\\". But \\\\\"life is everything wen v miss something \\\\\". Real value of people wil be realized only in their absence.... gud mrng\"',\n",
              " \"I'm going 4 lunch now wif my family then aft dat i go str 2 orchard lor.\",\n",
              " 'I dunno until when... Lets go learn pilates...',\n",
              " 'Thanks for ve lovely wisheds. You rock',\n",
              " 'I want to tel u one thing u should not mistake me k THIS IS THE MESSAGE THAT YOU SENT:)',\n",
              " 'Oh yes I can speak txt 2 u no! Hmm. Did u get  email?',\n",
              " 'Hi.:)technical support.providing assistance to us customer through call and email:)',\n",
              " \"I've been trying to reach him without success\",\n",
              " 'This pay is  &lt;DECIMAL&gt;  lakhs:)',\n",
              " 'Reminder: You have not downloaded the content you have already paid for. Goto http://doit. mymoby. tv/ to collect your content.',\n",
              " 'Mm have some kanji dont eat anything heavy ok',\n",
              " 'Still chance there. If you search hard you will get it..let have a try :)',\n",
              " 'Correct. So how was work today',\n",
              " \"I'm now but have to wait till 2 for the bus to pick me.\",\n",
              " 'Ok... I din get ur msg...',\n",
              " 'It only does simple arithmetic not percentages.',\n",
              " 'December only! Had your mobile 11mths+? You are entitled to update to the latest colour camera mobile for Free! Call The Mobile Update VCo FREE on 08002986906 ',\n",
              " 'THIS IS A LONG FUCKIN SHOWR',\n",
              " \"What u mean u almost done? Done wif sleeping? But i tot u going to take a nap.. Yup i send her liao so i'm picking her up at ard 4 smth lor..\",\n",
              " 'I love to cuddle! I want to hold you in my strong arms right now...',\n",
              " 'Super da:)good replacement for murali',\n",
              " 'What time. I\\x89Û÷m out until prob 3 or so',\n",
              " 'Probably money worries. Things are coming due and i have several outstanding invoices for work i did two and three months ago.',\n",
              " 'Will be out of class in a few hours. Sorry',\n",
              " 'Haha... dont be angry with yourself... Take it as a practice for the real thing. =) ',\n",
              " 'The message sent is askin for  &lt;#&gt; dollars. Shoul i pay  &lt;#&gt;  or  &lt;#&gt; ?',\n",
              " 'Sounds better than my evening im just doing my costume. Im not sure what time i finish tomorrow but i will txt you at the end.',\n",
              " 'Yup... Hey then one day on fri we can ask miwa and jiayin take leave go karaoke ',\n",
              " 'S.s:)i thinl role is like sachin.just standing. Others have to hit.',\n",
              " 'Final Chance! Claim ur å£150 worth of discount vouchers today! Text YES to 85023 now! SavaMob, member offers mobile! T Cs SavaMob POBOX84, M263UZ. å£3.00 Subs 16',\n",
              " \"Hard LIVE 121 chat just 60p/min. Choose your girl and connect LIVE. Call 09094646899 now! Cheap Chat UK's biggest live service. VU BCM1896WC1N3XX\",\n",
              " 'LOL that would be awesome payback.',\n",
              " 'I dunno lei... Like dun haf...',\n",
              " 'East coast',\n",
              " 'Cos daddy arranging time c wat time fetch Ì_ mah...',\n",
              " 'I think its far more than that but find out. Check google maps for a place from your dorm.',\n",
              " \"Yo do you know anyone  &lt;#&gt;  or otherwise able to buy liquor? Our guy flaked and right now if we don't get a hold of somebody its just 4 loko all night\",\n",
              " 'Kate jackson rec center before 7ish, right?',\n",
              " \"What I'm saying is if you haven't explicitly told nora I know someone I'm probably just not gonna bother\",\n",
              " \"Plz note: if anyone calling from a mobile Co. &amp; asks u to type # &lt;#&gt;  or # &lt;#&gt; . Do not do so. Disconnect the call,coz it iz an attempt of 'terrorist' to make use of the sim card no. Itz confirmd by nokia n motorola n has been verified by CNN IBN.\",\n",
              " 'Thanks for sending this mental ability question..',\n",
              " 'Message Important information for O2 user. Today is your lucky day! 2 find out why log onto http://www.urawinner.com there is a fantastic surprise awaiting you',\n",
              " 'No calls..messages..missed calls',\n",
              " 'Gudnite....tc...practice going on',\n",
              " 'Haha okay... Today weekend leh... ',\n",
              " 'U still havent got urself a jacket ah?',\n",
              " 'Aft i finish my lunch then i go str down lor. Ard 3 smth lor. U finish ur lunch already?',\n",
              " 'Ok lar... Joking wif u oni...',\n",
              " 'am up to my eyes in philosophy',\n",
              " 'Love you aathi..love u lot..',\n",
              " 'May i call You later Pls',\n",
              " 'To review and KEEP the fantastic Nokia N-Gage game deck with Club Nokia, go 2 www.cnupdates.com/newsletter. unsubscribe from alerts reply with the word OUT',\n",
              " 'Yup ok thanx...',\n",
              " 'LOOK AT THE FUCKIN TIME. WHAT THE FUCK YOU THINK IS UP',\n",
              " \"I'm putting it on now. It should be ready for  &lt;TIME&gt; \",\n",
              " 'Urgent! Please call 09061743810 from landline. Your ABTA complimentary 4* Tenerife Holiday or #5000 cash await collection SAE T&Cs Box 326 CW25WX 150 ppm',\n",
              " 'K, wat s tht incident?',\n",
              " 'O. Well uv causes mutations. Sunscreen is like essential thesedays',\n",
              " 'Lol for real. She told my dad I have cancer',\n",
              " 'I finished my lunch already. U wake up already?',\n",
              " 'Thanks 4 your continued support Your question this week will enter u in2 our draw 4 å£100 cash. Name the NEW US President? txt ans to 80082',\n",
              " 'Love it! The girls at the office may wonder why you are smiling but sore...',\n",
              " 'Customer service announcement. We recently tried to make a delivery to you but were unable to do so, please call 07099833605 to re-schedule. Ref:9280114',\n",
              " '7 wonders in My WORLD 7th You 6th Ur style 5th Ur smile 4th Ur Personality 3rd Ur Nature 2nd Ur SMS and 1st \\\\Ur Lovely Friendship\\\\\"... good morning dear\"',\n",
              " 'Quite lor. But dun tell him wait he get complacent...',\n",
              " 'Come aftr  &lt;DECIMAL&gt; ..now i m cleaning the house',\n",
              " \"Yes. It's all innocent fun. O:-)\",\n",
              " \"Sorry man, accidentally left my phone on silent last night and didn't check it til I got up\",\n",
              " \"Mah b, I'll pick it up tomorrow\",\n",
              " 'So dont use hook up any how',\n",
              " 'At WHAT TIME should i come tomorrow',\n",
              " 'Bored housewives! Chat n date now! 0871750.77.11! BT-national rate 10p/min only from landlines!',\n",
              " 'Congrats! 2 mobile 3G Videophones R yours. call 09063458130 now! videochat wid your mates, play java games, Dload polyPH music, noline rentl.',\n",
              " 'Anything lor if they all go then i go lor...',\n",
              " 'Congratulations U can claim 2 VIP row A Tickets 2 C Blu in concert in November or Blu gift guaranteed Call 09061104276 to claim TS&Cs www.smsco.net costå£3.75max ',\n",
              " \"Aight sorry I take ten years to shower. What's the plan?\",\n",
              " \"Also remember to get dobby's bowl from your car\",\n",
              " 'K go and sleep well. Take rest:-).',\n",
              " 'You know my old Dom I told you about yesterday ? His name is Roger? He got in touch with me last night and wants me to meet him today at 2 pm',\n",
              " 'Ok im not sure what time i finish tomorrow but i wanna spend the evening with you cos that would be vewy vewy lubly! Love me xxx',\n",
              " 'Goodnight da thangam I really miss u dear.',\n",
              " \"Didn't try, g and I decided not to head out\",\n",
              " \"The gas station is like a block away from my house, you'll drive right by it since armenia ends at swann and you have to take howard\",\n",
              " 'Wake me up at  &lt;#&gt;  am morning:)',\n",
              " 'K:)i will give my kvb acc details:)',\n",
              " \"Aah! A cuddle would be lush! I'd need lots of tea and soup before any kind of fumbling!\",\n",
              " 'What you doing?how are you?',\n",
              " 'Cant believe i said so many things to you this morning when all i really wanted to say was good morning, i love you! Have a beautiful morning. See you in the library later.',\n",
              " 'Hello. We need some posh birds and chaps to user trial prods for champneys. Can i put you down? I need your address and dob asap. Ta r',\n",
              " \"Hey babe, sorry i didn't get sooner. Gary can come and fix it cause he thinks he knows what it is but he doesn't go as far a Ptbo and he says it will cost  &lt;#&gt;  bucks. I don't know if it might be cheaper to find someone there ? We don't have any second hand machines at all right now, let me know what you want to do babe\",\n",
              " 'Almost there, see u in a sec',\n",
              " 'Watching ajith film ah?',\n",
              " 'Ambrith..madurai..met u in arun dha marrge..remembr?',\n",
              " \"Let's pool our money together and buy a bunch of lotto tickets. If we win I get &lt;#&gt; % u get &lt;#&gt; %. Deal?\",\n",
              " 'You have won a guaranteed å£200 award or even å£1000 cashto claim UR award call free on 08000407165 (18+) 2 stop getstop on 88222 PHP. RG21 4JX',\n",
              " 'Aiyar hard 2 type. U later free then tell me then i call n scold n tell u.',\n",
              " 'Double eviction this week - Spiral and Michael and good riddance to them!',\n",
              " 'And now electricity just went out fml.',\n",
              " 'Probably gonna be here for a while, see you later tonight &lt;)',\n",
              " \"Oh for fuck's sake she's in like tallahassee\",\n",
              " 'Haf u eaten? Wat time u wan me 2 come?',\n",
              " 'Ay wana meet on sat?Ì_ wkg on sat?',\n",
              " 'Oh, then your phone phoned me but it disconnected',\n",
              " \"Miserable. They don't tell u that the side effects of birth control are massive gut wrenching cramps for the first 2 months. I didn't sleep at all last night.\",\n",
              " 'I enjoy watching and playing football and basketball. Anything outdoors. And you?',\n",
              " \"Yup but not studying surfing lor. I'm in e lazy mode today.\",\n",
              " 'Can not use foreign stamps in this country.',\n",
              " 'Check mail.i have mailed varma and kept copy to you regarding membership.take care.insha allah.',\n",
              " 'Sitting in mu waiting for everyone to get out of my suite so I can take a shower',\n",
              " 'Hope you are having a great new semester. Do wish you the very best. You are made for greatness.',\n",
              " \"Sounds like a plan! Cardiff is still here and still cold! I'm sitting on the radiator!\",\n",
              " 'But you dint in touch with me.',\n",
              " 'Thinkin about someone is all good. No drugs for that',\n",
              " 'Tessy..pls do me a favor. Pls convey my birthday wishes to Nimya..pls dnt forget it. Today is her birthday Shijas',\n",
              " 'No dear i do have free messages without any recharge. Hi hi hi',\n",
              " \"Friendship is not a game to play, It is not a word to say, It doesn\\\\'t start on March and ends on May, It is tomorrow, yesterday, today and e\",\n",
              " 'Mom wants to know where you at',\n",
              " \"Its good, we'll find a way\",\n",
              " 'Huh so late... Fr dinner?',\n",
              " 'Hello which the site to download songs its urgent pls',\n",
              " 'Ever thought about living a good life with a perfect partner? Just txt back NAME and AGE to join the mobile community. (100p/SMS)',\n",
              " 'Hmmm.... Mayb can try e shoppin area one, but forgot e name of hotel...',\n",
              " 'This is the 2nd time we have tried 2 contact u. U have won the 750 Pound prize. 2 claim is easy, call 08712101358 NOW! Only 10p per min. BT-national-rate',\n",
              " 'Want to send me a virtual hug?... I need one',\n",
              " 'R u in this continent?',\n",
              " 'WE REGRET TO INFORM U THAT THE NHS HAS MADE A MISTAKE.U WERE NEVER ACTUALLY BORN.PLEASE REPORT 2 YOR LOCAL HOSPITAL 2B TERMINATED.WE R SORRY 4 THE INCONVENIENCE',\n",
              " 'What will we do in the shower, baby?',\n",
              " \"* Was a nice day and, impressively, i was sensible, went home early and now feel fine. Or am i just boring?! When's yours, i can't remember.\",\n",
              " \"Hello handsome ! Are you finding that job ? Not being lazy ? Working towards getting back that net for mummy ? Where's my boytoy now ? Does he miss me ?\",\n",
              " 'Moby Pub Quiz.Win a å£100 High Street prize if u know who the new Duchess of Cornwall will be? Txt her first name to 82277.unsub STOP å£1.50 008704050406 SP',\n",
              " 'When/where do I pick you up',\n",
              " 'Want a new Video Phone? 750 anytime any network mins? Half price line rental free text for 3 months? Reply or call 08000930705 for free delivery',\n",
              " \"What is this 'hex' place you talk of? Explain!\",\n",
              " 'Fine am simply sitting.',\n",
              " 'LORD OF THE RINGS:RETURN OF THE KING in store NOW!REPLY LOTR by 2 June 4 Chance 2 WIN LOTR soundtrack CDs StdTxtRate. Reply STOP to end txts',\n",
              " 'How dare you change my ring',\n",
              " 'Ya had just now.onion roast.',\n",
              " 'Yes. that will be fine. Love you. Be safe.',\n",
              " \"I'm aight. Wat's happening on your side.\",\n",
              " 'If we win its really no 1 side for long time.',\n",
              " 'G.W.R',\n",
              " 'Hope youåÕre not having too much fun without me!! see u tomorrow love jess x',\n",
              " '\\\\Hi missed your Call and my mumHas beendropping red wine all over theplace! what is your adress?\\\\\"\"',\n",
              " 'HI ITS JESS I DONT KNOW IF YOU ARE AT WORK BUT CALL ME WHEN U CAN IM AT HOME ALL EVE. XXX',\n",
              " 'Sos! Any amount i can get pls.',\n",
              " \"Yar i wanted 2 scold u yest but late already... I where got zhong se qing you? If u ask me b4 he ask me then i'll go out w u all lor. N u still can act so real.\",\n",
              " 'Update_Now - 12Mths Half Price Orange line rental: 400mins...Call MobileUpd8 on 08000839402 or call2optout=J5Q',\n",
              " 'Wishing you and your family Merry \\\\X\\\\\" mas and HAPPY NEW Year in advance..\"',\n",
              " 'Okie',\n",
              " 'No. 1 Nokia Tone 4 ur mob every week! Just txt NOK to 87021. 1st Tone FREE ! so get txtin now and tell ur friends. 150p/tone. 16 reply HL 4info',\n",
              " \"We're all getting worried over here, derek and taylor have already assumed the worst\",\n",
              " \"That's one of the issues but california is okay. No snow so its manageable\",\n",
              " \"UpgrdCentre Orange customer, you may now claim your FREE CAMERA PHONE upgrade for your loyalty. Call now on 0207 153 9153. Offer ends 26th July. T&C's apply. Opt-out available\",\n",
              " 'We are both fine. Thanks',\n",
              " 'All these nice new shirts and the only thing I can wear them to is nudist themed ;_; you in mu?',\n",
              " 'I though we shd go out n have some fun so bar in town or something \\x89ÛÒ sound ok?',\n",
              " 'WELL DONE! Your 4* Costa Del Sol Holiday or å£5000 await collection. Call 09050090044 Now toClaim. SAE, TCs, POBox334, Stockport, SK38xh, Costå£1.50/pm, Max10mins',\n",
              " 'Dad says hurry the hell up',\n",
              " 'Wow. I never realized that you were so embarassed by your accomodations. I thought you liked it, since i was doing the best i could and you always seemed so happy about \\\\the cave\\\\\". I\\'m sorry I didn\\'t and don\\'t have more to give. I\\'m sorry i offered. I\\'m sorry your room was so embarassing.\"',\n",
              " '\\\\Hey sorry I didntgive ya a a bellearlier hunny',\n",
              " 'Wat time do u wan 2 meet me later?',\n",
              " 'Then ur sis how?',\n",
              " 'Do you like shaking your booty on the dance floor?',\n",
              " 'Babes I think I got ur brolly I left it in English wil bring it in 2mrw 4 u luv Franxx',\n",
              " \"No. She's currently in scotland for that.\",\n",
              " \"That's the way you should stay oh.\",\n",
              " \"Do whatever you want. You know what the rules are. We had a talk earlier this week about what had to start happening, you showing responsibility. Yet, every week it's can i bend the rule this way? What about that way? Do whatever. I'm tired of having thia same argument with you every week. And a  &lt;#&gt;  movie DOESNT inlude the previews. You're still getting in after 1.\",\n",
              " 'Er mw im filled tuth is aight',\n",
              " 'Buy Space Invaders 4 a chance 2 win orig Arcade Game console. Press 0 for Games Arcade (std WAP charge) See o2.co.uk/games 4 Terms + settings. No purchase',\n",
              " 'Sorry de i went to shop.',\n",
              " 'WOT STUDENT DISCOUNT CAN U GET ON BOOKS?',\n",
              " \"Ok. Every night take a warm bath drink a cup of milk and you'll see a work of magic. You still need to loose weight. Just so that you know\",\n",
              " '\\\\Im on gloucesterroad what are uup to later?\\\\\"\"',\n",
              " 'Hope you are having a great day.',\n",
              " 'You have won a guaranteed å£200 award or even å£1000 cashto claim UR award call free on 08000407165 (18+) 2 stop getstop on 88222 PHP',\n",
              " 'Nope... Juz off from work...',\n",
              " \"Wat makes u thk i'll fall down. But actually i thk i'm quite prone 2 falls. Lucky my dad at home i ask him come n fetch me already.\",\n",
              " 'Ok then i will come to ur home after half an hour',\n",
              " 'Easy mate, * guess the quick drink was bit ambitious.',\n",
              " 'Did you try making another butt.',\n",
              " 'Miles and smiles r made frm same letters but do u know d difference..? smile on ur face keeps me happy even though I am miles away from u.. :-)keep smiling.. Good nyt',\n",
              " 'Ok...',\n",
              " 'And very importantly, all we discuss is between u and i only.',\n",
              " 'Its a site to simulate the test. It just gives you very tough questions to test your readiness.',\n",
              " 'Ok..',\n",
              " 'great princess! I love giving and receiving oral. Doggy style is my fave position. How about you? I enjoy making love  &lt;#&gt;  times per night :)',\n",
              " 'IM GONNAMISSU SO MUCH!!I WOULD SAY IL SEND U A POSTCARD BUTTHERES ABOUTAS MUCH CHANCE OF MEREMEMBERIN ASTHERE IS OFSI NOT BREAKIN HIS CONTRACT!! LUV Yaxx',\n",
              " 'I see the letter B on my car',\n",
              " 'Nokia phone is lovly..',\n",
              " 'I am waiting for your call sir.',\n",
              " \"Oh right, ok. I'll make sure that i do loads of work during the day!  got a really nasty cough today and is dry n shot so that should really help it!\",\n",
              " 'Why must we sit around and wait for summer days to celebrate. Such a magical sight when the worlds dressed in white. Oooooh let there be snow.',\n",
              " \"I've sent Ì_ my part..\",\n",
              " 'Hi mom we might be back later than  &lt;#&gt; ',\n",
              " 'Me also da, i feel yesterday night  wait til 2day night dear.',\n",
              " \"You won't believe it but it's true. It's Incredible Txts! Reply G now to learn truly amazing things that will blow your mind. From O2FWD only 18p/txt\",\n",
              " \"MAKE SURE ALEX KNOWS HIS BIRTHDAY IS OVER IN FIFTEEN MINUTES AS FAR AS YOU'RE CONCERNED\",\n",
              " \"its cool but tyler had to take off so we're gonna buy for him and drop it off at his place later tonight. Our total order is a quarter, you got enough?\",\n",
              " \"Hey, a guy I know is breathing down my neck to get him some bud, anyway you'd be able to get a half track to usf tonight?\",\n",
              " 'Customer place, i wil cal u sir.',\n",
              " 'Ok thanx...',\n",
              " 'Hey gals.. Anyone of u going down to e driving centre tmr?',\n",
              " \"Do u ever get a song stuck in your head for no reason and it won't go away til u listen to it like 5 times?\",\n",
              " \"(No promises on when though, haven't even gotten dinner yet)\",\n",
              " 'Todays Vodafone numbers ending with 4882 are selected to a receive a å£350 award. If your number matches call 09064019014 to receive your å£350 award.',\n",
              " \"&lt;#&gt; , that's all? Guess that's easy enough\",\n",
              " 'This message is from a great Doctor in India:-): 1) Do not drink APPY FIZZ. It contains Cancer causing age',\n",
              " 'U GOIN OUT 2NITE?',\n",
              " 'Anything lor is she coming?',\n",
              " \"Re your call; You didn't see my facebook huh?\",\n",
              " 'Captain is in our room:)',\n",
              " 'I hope you arnt pissed off but id would really like to see you tomorrow. Love me xxxxxxxxxxxxxX',\n",
              " 'FreeMsg Hi baby wow just got a new cam moby. Wanna C a hot pic? or Fancy a chat?Im w8in 4uTxt / rply CHAT to 82242 Hlp 08712317606 Msg150p 2rcv',\n",
              " 'Txt: CALL to No: 86888 & claim your reward of 3 hours talk time to use from your phone now! Subscribe6GBP/mnth inc 3hrs 16 stop?txtStop www.gamb.tv',\n",
              " 'I ask if u meeting da ge tmr nite...',\n",
              " 'Ok. Not much to do here though. H&M Friday, cant wait. Dunno wot the hell im gonna do for another 3 weeks! Become a slob- oh wait, already done that! ',\n",
              " 'What r u cooking me for dinner?',\n",
              " \"Alright. I'm out--have a good night!\",\n",
              " 'Pls she needs to dat slowly or she will vomit more.',\n",
              " 'Double Mins & Double Txt & 1/2 price Linerental on Latest Orange Bluetooth mobiles. Call MobileUpd8 for the very latest offers. 08000839402 or call2optout/LF56',\n",
              " 'Gam gone after outstanding innings.',\n",
              " 'Ok thanx... Take care then...',\n",
              " 'Waaaat?? Lololo ok next time then!',\n",
              " \"Hey i will be really pretty late... You want to go for the lesson first? I will join you. I'm only reaching tp mrt\",\n",
              " '* Will be september by then!',\n",
              " 'Headin towards busetop',\n",
              " 'I donno its in your genes or something',\n",
              " 'Tell you what, if you make a little spreadsheet and track whose idea it was to smoke to determine who \\\\smokes too much\\\\\" for the entire month of february',\n",
              " 'Well done ENGLAND! Get the official poly ringtone or colour flag on yer mobile! text TONE or FLAG to 84199 NOW! Opt-out txt ENG STOP. Box39822 W111WX å£1.50',\n",
              " 'Yep, by the pretty sculpture',\n",
              " 'Get 3 Lions England tone, reply lionm 4 mono or lionp 4 poly. 4 more go 2 www.ringtones.co.uk, the original n best. Tones 3GBP network operator rates apply.',\n",
              " 'Argh why the fuck is nobody in town ;_;',\n",
              " 'Hi juan. Im coming home on fri hey. Of course i expect a welcome party and lots of presents. Ill phone u when i get back. Loads of love nicky x x x x x x x x x',\n",
              " \"For real tho this sucks. I can't even cook my whole electricity is out. And I'm hungry.\",\n",
              " 'U sleeping now.. Or you going to take? Haha.. I got spys wat.. Me online checking n replying mails lor..',\n",
              " 'Nothing, smsing u n xy lor. Sorry lor da guys neva c u in person but they sort of know u lor. So u wan 2 meet them xy ask me 2 bring u along 4 our next meeting.',\n",
              " 'Friendship poem: Dear O Dear U R Not Near But I Can Hear Dont Get Fear Live With Cheer No More Tear U R Always my Dear. Gud ni8',\n",
              " \"Can you just come in for a sec? There's somebody here I want you to see\",\n",
              " \"Not yet chikku..going to room nw, i'm in bus..\",\n",
              " 'I wnt to buy a BMW car urgently..its vry urgent.but hv a shortage of  &lt;#&gt; Lacs.there is no source to arng dis amt. &lt;#&gt; lacs..thats my prob',\n",
              " 'Arun can u transfr me d amt',\n",
              " 'Package all your programs well',\n",
              " 'Ok. C u then.',\n",
              " 'SORRY IM STIL FUCKED AFTER LAST NITE WENT TOBED AT 430 GOT UP 4 WORK AT 630',\n",
              " 'Urgent! Please call 09061213237 from landline. å£5000 cash or a luxury 4* Canary Islands Holiday await collection. T&Cs SAE PO Box 177. M227XY. 150ppm. 16+',\n",
              " 'Taka lor. Wat time u wan 2 come n look 4 us?',\n",
              " '(Bank of Granite issues Strong-Buy) EXPLOSIVE PICK FOR OUR MEMBERS *****UP OVER 300% *********** Nasdaq Symbol CDGT That is a $5.00 per..',\n",
              " 'No break time one... How... I come out n get my stuff fr Ì_?',\n",
              " \"Wow so healthy. Old airport rd lor. Cant thk of anything else. But i'll b bathing my dog later.\",\n",
              " 'Height of \\\\Oh shit....!!\\\\\" situation: A guy throws a luv letter on a gal but falls on her brothers head whos a gay',\n",
              " \"Hope ur head doesn't hurt 2 much ! Am ploughing my way through a pile of ironing ! Staying in with a chinky tonight come round if you like.\",\n",
              " 'As a registered optin subscriber ur draw 4 å£100 gift voucher will be entered on receipt of a correct ans to 80062 Whats No1 in the BBC charts',\n",
              " \"Lol I have to take it. member how I said my aunt flow didn't visit for 6 months? It's cause I developed ovarian cysts. Bc is the only way to shrink them.\",\n",
              " 'Where are you lover ? I need you ...',\n",
              " 'Its normally hot mail. Com you see!',\n",
              " 'A boy was late 2 home. His father: \\\\POWER OF FRNDSHIP\\\\\"\"',\n",
              " \"FREE2DAY sexy St George's Day pic of Jordan!Txt PIC to 89080 dont miss out, then every wk a saucy celeb!4 more pics c PocketBabe.co.uk 0870241182716 å£3/wk\",\n",
              " \"I don't run away frm u... I walk slowly &amp; it kills me that u don't care enough to stop me...\",\n",
              " \"When people see my msgs, They think Iam addicted to msging... They are wrong, Bcoz They don\\\\'t know that Iam addicted to my sweet Friends..!! BSLVYL\",\n",
              " 'After the drug she will be able to eat.',\n",
              " 'Nt yet chikku..simple habba..hw abt u?',\n",
              " 'Your 2004 account for 07XXXXXXXXX shows 786 unredeemed points. To claim call 08719181259 Identifier code: XXXXX Expires 26.03.05',\n",
              " 'Not yet chikku..wat abt u?',\n",
              " \"New Theory: Argument wins d SITUATION, but loses the PERSON. So dont argue with ur friends just.. . . . kick them &amp; say, I'm always correct.!\",\n",
              " \"Oops I was in the shower when u called. Hey a parking garage collapsed at university hospital. See I'm not crazy. Stuff like that DOES happen.\",\n",
              " 'Yes we are chatting too.',\n",
              " \"U wake up already? Wat u doing? U picking us up later rite? I'm taking sq825, reaching ard 7 smth 8 like dat. U can check e arrival time. C ya soon...\",\n",
              " 'Bbq this sat at mine from 6ish. Ur welcome 2 come',\n",
              " 'Santa calling! Would your little ones like a call from Santa Xmas Eve? Call 09077818151 to book you time. Calls1.50ppm last 3mins 30s T&C www.santacalling.com',\n",
              " \"Oh dang! I didn't mean o send that to you! Lol!\",\n",
              " 'Auntie huai juan never pick up her phone',\n",
              " 'Can. Dunno wat to get 4 her...',\n",
              " 'Sday only joined.so training we started today:)',\n",
              " 'Where are you ? You said you would be here when I woke ... :-(',\n",
              " 'Loosu go to hospital. De dont let it careless.',\n",
              " 'Jokin only lar... :-) depends on which phone my father can get lor...',\n",
              " \"I call you later, don't have network. If urgnt, sms me.\",\n",
              " \"INTERFLORA - åÒIt's not too late to order Interflora flowers for christmas call 0800 505060 to place your order before Midnight tomorrow.\",\n",
              " 'It didnt work again oh. Ok goodnight then. I.ll fix and have it ready by the time you wake up. You are very dearly missed have a good night sleep.',\n",
              " \"Usually the person is unconscious that's in children but in adults they may just behave abnormally. I.ll call you now\",\n",
              " \"Of course ! Don't tease me ... You know I simply must see ! *grins* ... Do keep me posted my prey ... *loving smile* *devouring kiss*\",\n",
              " 'Never y lei... I v lazy... Got wat? Dat day Ì_ send me da url cant work one...',\n",
              " 'Cheers for the card ... Is it that time of year already?',\n",
              " \"I'm good. Have you registered to vote?\",\n",
              " 'Cashbin.co.uk (Get lots of cash this weekend!) www.cashbin.co.uk Dear Welcome to the weekend We have got our biggest and best EVER cash give away!! These..',\n",
              " '08714712388 between 10am-7pm Cost 10p',\n",
              " 'Dont put your phone on silent mode ok',\n",
              " 'You still around? I could use a half-8th',\n",
              " 'Sorry I missed you babe. I was up late and slept in. I hope you enjoy your driving lesson, boytoy. I miss you too ... *teasing kiss*',\n",
              " 'Hey mr whats the name of that bill brison book the one about language and words ',\n",
              " \"How have your little darlings been so far this week? Need a coffee run tomo?Can't believe it's that time of week already \\x89Û_\",\n",
              " \"Ugh I don't wanna get out of bed. It's so warm.\",\n",
              " 'No message..no responce..what happend?',\n",
              " 'After completed degree. There is no use in joining finance.',\n",
              " 'The world is running and i am still.maybe all are feeling the same,so be it.or i have to admit,i am mad.then where is the correction?or let me call this is life.and keep running with the world,may be u r also running.lets run.',\n",
              " 'Wat so late still early mah. Or we juz go 4 dinner lor. Aiya i dunno...',\n",
              " 'Ok darlin i supose it was ok i just worry too much.i have to do some film stuff my mate and then have to babysit again! But you can call me there.xx',\n",
              " 'When can Ì_ come out?',\n",
              " 'Then anything special?',\n",
              " 'Hey company elama po mudyadhu.',\n",
              " 'Mila, age23, blonde, new in UK. I look sex with UK guys. if u like fun with me. Text MTALK to 69866.18 . 30pp/txt 1st 5free. å£1.50 increments. Help08718728876',\n",
              " 'What type of stuff do you sing?',\n",
              " '\\\\YEH I AM DEF UP4 SOMETHING SAT',\n",
              " 'Wat r u doing?',\n",
              " 'HMV BONUS SPECIAL 500 pounds of genuine HMV vouchers to be won. Just answer 4 easy questions. Play Now! Send HMV to 86688 More info:www.100percent-real.com',\n",
              " 'U know we watchin at lido?',\n",
              " 'I want to go to perumbavoor',\n",
              " 'If he started searching he will get job in few days.he have great potential and talent.',\n",
              " 'Hi there. We have now moved in2 our pub . Would be great 2 c u if u cud come up.',\n",
              " 'Probably gonna swing by in a wee bit',\n",
              " 'Y Ì_ wan to go there? C doctor?',\n",
              " 'Someone U know has asked our dating service 2 contact you! Cant Guess who? CALL 09058091854 NOW all will be revealed. PO BOX385 M6 6WU',\n",
              " 'Ah, well that confuses things, doesnt it? I thought was friends with now. Maybe i did the wrong thing but i already sort of invited -tho he may not come cos of money.',\n",
              " \"Friendship is not a game to play, It is not a word to say, It doesn\\\\'t start on March and ends on May, It is tomorrow, yesterday, today and e\",\n",
              " 'Thanks for your ringtone order, reference number X49.Your mobile will be charged 4.50. Should your tone not arrive please call customer services 09065989182',\n",
              " 'Congrats kano..whr s the treat maga?',\n",
              " 'Oh ok i didnt know what you meant. Yep i am baby jontin',\n",
              " 'Wat uniform? In where get?',\n",
              " 'Dear we got  &lt;#&gt;  dollars hi hi',\n",
              " 'Ur TONEXS subscription has been renewed and you have been charged å£4.50. You can choose 10 more polys this month. www.clubzed.co.uk *BILLING MSG*',\n",
              " 'Havent.',\n",
              " 'How is your schedule next week? I am out of town this weekend.',\n",
              " 'Good words.... But words may leave u in dismay many times.',\n",
              " \"I'll pick you up at about 5.15pm to go to taunton if you still want to come.\",\n",
              " 'Mm so you asked me not to call radio',\n",
              " 'Hmm... Dunno leh, mayb a bag 4 goigng out dat is not too small. Or jus anything except perfume, smth dat i can keep.',\n",
              " 'How. Its a little difficult but its a simple way to enter this place',\n",
              " 'We are pleased to inform that your application for Airtel Broadband is processed successfully. Your installation will happen within 3 days.',\n",
              " \"Joy's father is John. Then John is the NAME of Joy's father. Mandan\",\n",
              " 'Good afternoon sunshine! How dawns that day ? Are we refreshed and happy to be alive? Do we breathe in the air and smile ? I think of you, my love ... As always',\n",
              " 'K then 2marrow are you coming to class.',\n",
              " 'U are subscribed to the best Mobile Content Service in the UK for å£3 per ten days until you send STOP to 83435. Helpline 08706091795.',\n",
              " \"Is there a reason we've not spoken this year? Anyways have a great week and all the best in your exam\",\n",
              " 'Omw back to tampa from west palm, you hear what happened?',\n",
              " 'I have a rather prominent bite mark on my right cheek',\n",
              " 'Have you finished work yet? :)',\n",
              " 'Are you unique enough? Find out from 30th August. www.areyouunique.co.uk',\n",
              " 'U are subscribed to the best Mobile Content Service in the UK for å£3 per 10 days until you send STOP to 82324. Helpline 08706091795',\n",
              " 'There is os called ubandu which will run without installing in hard disk...you can use that os to copy the important files in system and give it to repair shop..',\n",
              " 'Dear Hero,i am leaving to qatar tonite for an apt opportunity.pls do keep in touch at  &lt;EMAIL&gt; ,kerala',\n",
              " 'Yes:)sura in sun tv.:)lol.',\n",
              " 'Wen ur lovable bcums angry wid u, dnt take it seriously.. Coz being angry is d most childish n true way of showing deep affection, care n luv!.. kettoda manda... Have nice day da.',\n",
              " \"That's y we haf to combine n c how lor...\",\n",
              " \"That's ok. I popped in to ask bout something and she said you'd been in. Are you around tonght wen this girl comes?\",\n",
              " \"Just come home. I don't want u to be miserable\",\n",
              " \"You'll never believe this but i have actually got off at taunton. Wow\",\n",
              " 'Can Ì_ send me a copy of da report?',\n",
              " 'ÌÏ come lt 25 n pass to me lar',\n",
              " 'If you still havent collected the dough pls let me know so i can go to the place i sent it to get the control number',\n",
              " 'Guess what! Somebody you know secretly fancies you! Wanna find out who it is? Give us a call on 09065394514 From Landline DATEBox1282EssexCM61XN 150p/min 18',\n",
              " 'Hi, can i please get a  &lt;#&gt;  dollar loan from you. I.ll pay you back by mid february. Pls.',\n",
              " 'Is it your yahoo boys that bring in the perf? Or legal.',\n",
              " 'Sunshine Quiz! Win a super Sony DVD recorder if you canname the capital of Australia? Text MQUIZ to 82277. B',\n",
              " \"1's finish meeting call me.\",\n",
              " 'Princess, is your kitty shaved or natural?',\n",
              " 'Do you want 750 anytime any network mins 150 text and a NEW VIDEO phone for only five pounds per week call 08002888812 or reply for delivery tomorrow',\n",
              " \"I'm not driving... Raining! Then i'll get caught at e mrt station lor.\",\n",
              " \"Aight that'll work, thanks\",\n",
              " 'In fact when do you leave? I think addie goes back to school tues or wed',\n",
              " 'Dont search love, let love find U. Thats why its called falling in love, bcoz U dont force yourself, U just fall and U know there is smeone to hold U... BSLVYL',\n",
              " 'Moby Pub Quiz.Win a å£100 High Street prize if u know who the new Duchess of Cornwall will be? Txt her first name to 82277.unsub STOP å£1.50 008704050406 SP Arrow',\n",
              " 'ok. I am a gentleman and will treat you with dignity and respect.',\n",
              " 'Hey leave it. not a big deal:-) take care.',\n",
              " 'I told your number to gautham..',\n",
              " \"You are right though. I can't give you the space you want and need. This is really starting to become an issue. I was going to suggest setting a definite move out--if i'm still there-- after greece. But maybe you are ready and should do it now.\",\n",
              " 'Finish already... Yar they keep saying i mushy... I so embarrassed ok...',\n",
              " 'K k :-):-) then watch some films.',\n",
              " 'Ok lor... Or u wan me go look 4 u?',\n",
              " 'So when do you wanna gym harri',\n",
              " 'Lol great now im getting hungry.',\n",
              " 'I knew it... U slept v late yest? Wake up so late...',\n",
              " 'Are you up for the challenge? I know i am :)',\n",
              " \"Prabha..i'm soryda..realy..frm heart i'm sory\",\n",
              " 'Its ok chikku, and its my 1 of favourite song..:-)',\n",
              " 'Get your garden ready for summer with a FREE selection of summer bulbs and seeds worth å£33:50 only with The Scotsman this Saturday. To stop go2 notxt.co.uk',\n",
              " 'Hi, wkend ok but journey terrible. Wk not good as have huge back log of marking to do',\n",
              " \"As if i wasn't having enough trouble sleeping.\",\n",
              " 'Miss ya, need ya, want ya, love ya.',\n",
              " 'Many times we lose our best ones bcoz we are ',\n",
              " \"I hope you that's the result of being consistently intelligent and kind. Start asking him about practicum links and keep your ears open and all the best. ttyl\",\n",
              " \"I'm an actor. When i work, i work in the evening and sleep late. Since i'm unemployed at the moment, i ALWAYS sleep late. When you're unemployed, every day is saturday.\",\n",
              " 'Wylie update: my weed dealer carlos went to freedom and had a class with lunsford',\n",
              " \"Alright, we're all set here, text the man\",\n",
              " 'Studying. But i.ll be free next weekend.',\n",
              " 'That is wondarfull song',\n",
              " 'Hey! Congrats 2u2. id luv 2 but ive had 2 go home!',\n",
              " 'money!!! you r a lucky winner ! 2 claim your prize text money 2 88600 over å£1million to give away ! ppt150x3+normal text rate box403 w1t1jy',\n",
              " 'Leave it de:-). Start Prepare for next:-)..',\n",
              " 'I think i am disturbing her da',\n",
              " 'Hey what how about your project. Started aha da.',\n",
              " 'Watching tv lor...',\n",
              " 'Hello, my love! How goes that day ? I wish your well and fine babe and hope that you find some job prospects. I miss you, boytoy ... *a teasing kiss*',\n",
              " 'I havent lei.. Next mon can?',\n",
              " 'U have a secret admirer who is looking 2 make contact with U-find out who they R*reveal who thinks UR so special-call on 09058094594',\n",
              " 'No. Did you multimedia message them or e-mail?',\n",
              " ...]"
            ]
          },
          "metadata": {},
          "execution_count": 20
        }
      ]
    },
    {
      "cell_type": "markdown",
      "source": [
        "# Transformer based model:\n",
        "Now we are going to use the distilbert model for prediction."
      ],
      "metadata": {
        "id": "uTGiTq4HBLC1"
      }
    },
    {
      "cell_type": "code",
      "source": [
        "from transformers import DistilBertTokenizerFast\n",
        "tokenizer=DistilBertTokenizerFast.from_pretrained('distilbert-base-uncased')"
      ],
      "metadata": {
        "id": "m2M7-fgRBB0d"
      },
      "execution_count": 21,
      "outputs": []
    },
    {
      "cell_type": "markdown",
      "source": [
        "#Tokenizer:\n",
        "This tokenizer will pre process the data before we feed it to the distilbert model. each model has its own tokenizer.\n",
        "Here we are applying tokenizer onto the train and test dataset seperately to prevent data leakage. if it is applied on the whole dataset then there is a chance of data leakage."
      ],
      "metadata": {
        "id": "m7681vkIBogq"
      }
    },
    {
      "cell_type": "code",
      "source": [
        "train_encoding=tokenizer(X_train, truncation=True, padding=True)\n",
        "test_encoding=tokenizer(X_test, truncation=True, padding=True)"
      ],
      "metadata": {
        "id": "Jlg5s3iYBjY1"
      },
      "execution_count": 22,
      "outputs": []
    },
    {
      "cell_type": "code",
      "source": [
        "#train_encoding['input_ids']"
      ],
      "metadata": {
        "id": "8SPW56ciE1tC"
      },
      "execution_count": 23,
      "outputs": []
    },
    {
      "cell_type": "markdown",
      "source": [
        "# Converting Encoding into dataset objects:\n",
        "using tf.data.Dataset.from_tensor_slices() converts the tokenized data into a format that can be fed into the model for training. this method also allows you to create data pipelines where the data can be sent efficiently into batches."
      ],
      "metadata": {
        "id": "AkuidXbTEUWE"
      }
    },
    {
      "cell_type": "code",
      "source": [
        "import tensorflow as tf\n",
        "train_dataset=tf.data.Dataset.from_tensor_slices((dict(train_encoding),y_train))\n",
        "test_dataset=tf.data.Dataset.from_tensor_slices((dict(test_encoding),y_test))\n",
        "\n"
      ],
      "metadata": {
        "id": "ms-nmWoaCc_m"
      },
      "execution_count": 24,
      "outputs": []
    },
    {
      "cell_type": "code",
      "source": [
        "from transformers import TFDistilBertForSequenceClassification, TFTrainer, TFTrainingArguments"
      ],
      "metadata": {
        "id": "qdh7o-ImKiYJ"
      },
      "execution_count": 25,
      "outputs": []
    },
    {
      "cell_type": "code",
      "source": [
        "training_args=TFTrainingArguments(\n",
        " output_dir='./results',\n",
        "    num_train_epochs=3,\n",
        "    per_device_train_batch_size=8,\n",
        "    per_device_eval_batch_size=16,\n",
        "    warmup_steps=500,\n",
        "    weight_decay=0.01,\n",
        "    logging_dir='./logs',\n",
        "    logging_steps=10,    \n",
        "\n",
        "\n",
        "\n",
        ")"
      ],
      "metadata": {
        "colab": {
          "base_uri": "https://localhost:8080/"
        },
        "id": "9qbj1_GhCicW",
        "outputId": "89f9315b-0cf3-4944-aaaf-47e43d8cbb87"
      },
      "execution_count": 26,
      "outputs": [
        {
          "output_type": "stream",
          "name": "stderr",
          "text": [
            "/usr/local/lib/python3.8/dist-packages/torch/cuda/__init__.py:497: UserWarning: Can't initialize NVML\n",
            "  warnings.warn(\"Can't initialize NVML\")\n"
          ]
        }
      ]
    },
    {
      "cell_type": "code",
      "source": [
        "\"\"\"\n",
        "with training_args.strategy.scope():\n",
        "  model=TFDistilBertForSequenceClassification.from_pretrained(\"distilbert-base-uncased\")\n",
        "  trainer=TFTrainer(\n",
        "    model=model,\n",
        "    args=training_args,\n",
        "    train_dataset=train_dataset,\n",
        "    eval_dataset=test_dataset)\n",
        "\"\"\"\n",
        "\n"
      ],
      "metadata": {
        "colab": {
          "base_uri": "https://localhost:8080/",
          "height": 70
        },
        "id": "wJZQuT76Oe06",
        "outputId": "878ad3ec-7b0d-4d4f-b542-2ab6aad659f0"
      },
      "execution_count": 27,
      "outputs": [
        {
          "output_type": "execute_result",
          "data": {
            "text/plain": [
              "'\\nwith training_args.strategy.scope():\\n  model=TFDistilBertForSequenceClassification.from_pretrained(\"distilbert-base-uncased\")\\n  trainer=TFTrainer(\\n    model=model,\\n    args=training_args,\\n    train_dataset=train_dataset,\\n    eval_dataset=test_dataset)\\n'"
            ],
            "application/vnd.google.colaboratory.intrinsic+json": {
              "type": "string"
            }
          },
          "metadata": {},
          "execution_count": 27
        }
      ]
    },
    {
      "cell_type": "code",
      "source": [],
      "metadata": {
        "id": "NAYSflaJOrOj"
      },
      "execution_count": 27,
      "outputs": []
    },
    {
      "cell_type": "code",
      "source": [
        "import tensorflow as tf"
      ],
      "metadata": {
        "id": "Oo2KM381sYK3"
      },
      "execution_count": 28,
      "outputs": []
    },
    {
      "cell_type": "code",
      "source": [
        "optimizer = tf.keras.optimizers.Adam(learning_rate=5e-5)\n",
        "model.compile(optimizer=optimizer, loss=tf.keras.losses.SparseCategoricalCrossentropy(from_logits=True)) # can also use any keras loss fn\n",
        "model.fit(train_dataset.shuffle(1).batch(1), epochs=1, batch_size=1) # to train the model with our custom dataset."
      ],
      "metadata": {
        "colab": {
          "base_uri": "https://localhost:8080/"
        },
        "id": "lihvM47fPgi6",
        "outputId": "ae227734-80cc-4932-9bfb-6ba9050fb1ca"
      },
      "execution_count": null,
      "outputs": [
        {
          "output_type": "stream",
          "name": "stderr",
          "text": [
            "WARNING:tensorflow:From /usr/local/lib/python3.8/dist-packages/tensorflow/python/autograph/pyct/static_analysis/liveness.py:83: Analyzer.lamba_check (from tensorflow.python.autograph.pyct.static_analysis.liveness) is deprecated and will be removed after 2023-09-23.\n",
            "Instructions for updating:\n",
            "Lambda fuctions will be no more assumed to be used in the statement where they are used, or at least in the same block. https://github.com/tensorflow/tensorflow/issues/56089\n",
            "WARNING:tensorflow:The parameters `output_attentions`, `output_hidden_states` and `use_cache` cannot be updated when calling a model.They have to be set to True/False in the config object (i.e.: `config=XConfig.from_pretrained('name', output_attentions=True)`).\n",
            "WARNING:tensorflow:AutoGraph could not transform <bound method Socket.send of <zmq.Socket(zmq.PUSH) at 0x7f8235111e80>> and will run it as-is.\n",
            "Please report this to the TensorFlow team. When filing the bug, set the verbosity to 10 (on Linux, `export AUTOGRAPH_VERBOSITY=10`) and attach the full output.\n",
            "Cause: module, class, method, function, traceback, frame, or code object was expected, got cython_function_or_method\n",
            "To silence this warning, decorate the function with @tf.autograph.experimental.do_not_convert\n"
          ]
        },
        {
          "output_type": "stream",
          "name": "stdout",
          "text": [
            "WARNING: AutoGraph could not transform <bound method Socket.send of <zmq.Socket(zmq.PUSH) at 0x7f8235111e80>> and will run it as-is.\n",
            "Please report this to the TensorFlow team. When filing the bug, set the verbosity to 10 (on Linux, `export AUTOGRAPH_VERBOSITY=10`) and attach the full output.\n",
            "Cause: module, class, method, function, traceback, frame, or code object was expected, got cython_function_or_method\n",
            "To silence this warning, decorate the function with @tf.autograph.experimental.do_not_convert\n"
          ]
        },
        {
          "output_type": "stream",
          "name": "stderr",
          "text": [
            "WARNING:tensorflow:The parameter `return_dict` cannot be set in graph mode and will always be set to `True`.\n",
            "WARNING:tensorflow:The parameters `output_attentions`, `output_hidden_states` and `use_cache` cannot be updated when calling a model.They have to be set to True/False in the config object (i.e.: `config=XConfig.from_pretrained('name', output_attentions=True)`).\n",
            "WARNING:tensorflow:The parameter `return_dict` cannot be set in graph mode and will always be set to `True`.\n"
          ]
        },
        {
          "output_type": "stream",
          "name": "stdout",
          "text": [
            "  36/4457 [..............................] - ETA: 8:11:54 - loss: 0.6613"
          ]
        }
      ]
    },
    {
      "cell_type": "code",
      "source": [],
      "metadata": {
        "id": "tWLYAqw5soG_"
      },
      "execution_count": null,
      "outputs": []
    },
    {
      "cell_type": "code",
      "source": [],
      "metadata": {
        "id": "z7mEHzwDOtHt"
      },
      "execution_count": null,
      "outputs": []
    },
    {
      "cell_type": "code",
      "source": [],
      "metadata": {
        "id": "P0DbqR38QXxp"
      },
      "execution_count": null,
      "outputs": []
    }
  ]
}